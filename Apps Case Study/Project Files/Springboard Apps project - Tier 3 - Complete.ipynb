{
 "cells": [
  {
   "cell_type": "markdown",
   "metadata": {
    "colab_type": "text",
    "id": "i2RUFW7TFcuh"
   },
   "source": [
    "# Springboard Apps project - Tier 3 - Complete\n",
    "\n",
    "Welcome to the Apps project! To give you a taste of your future career, we're going to walk through exactly the kind of notebook that you'd write as a data scientist. In the process, we'll be sure to signpost the general framework for our investigation - the Data Science Pipeline - as well as give reasons for why we're doing what we're doing. We're also going to apply some of the skills and knowledge you've built up in the previous unit when reading Professor Spiegelhalter's *The Art of Statistics* (hereinafter *AoS*). \n",
    "\n",
    "So let's get cracking!\n",
    "\n",
    "**Brief**\n",
    "\n",
    "Did Apple Store apps receive better reviews than Google Play apps?\n",
    "\n",
    "## Stages of the project\n",
    "\n",
    "1. Sourcing and loading \n",
    "    * Load the two datasets\n",
    "    * Pick the columns that we are going to work with \n",
    "    * Subsetting the data on this basis \n",
    " \n",
    " \n",
    "2. Cleaning, transforming and visualizing\n",
    "    * Check the data types and fix them\n",
    "    * Add a `platform` column to both the `Apple` and the `Google` dataframes\n",
    "    * Changing the column names to prepare for a join \n",
    "    * Join the two data sets\n",
    "    * Eliminate the `NaN` values\n",
    "    * Filter only those apps that have been reviewed at least once\n",
    "    * Summarize the data visually and analytically (by the column `platform`)  \n",
    "  \n",
    "  \n",
    "3. Modelling \n",
    "    * Hypothesis formulation\n",
    "    * Getting the distribution of the data\n",
    "    * Permutation test \n",
    "\n",
    "\n",
    "4. Evaluating and concluding \n",
    "    * What is our conclusion?\n",
    "    * What is our decision?\n",
    "    * Other models we could have used. \n",
    "    "
   ]
  },
  {
   "cell_type": "markdown",
   "metadata": {
    "colab_type": "text",
    "id": "QLUAXtl1Fcuk"
   },
   "source": [
    "## Importing the libraries\n",
    "\n",
    "In this case we are going to import pandas, numpy, scipy, random and matplotlib.pyplot"
   ]
  },
  {
   "cell_type": "code",
   "execution_count": 1,
   "metadata": {
    "colab": {},
    "colab_type": "code",
    "id": "XeXJOlGiFcum"
   },
   "outputs": [],
   "source": [
    "import pandas as pd\n",
    "import numpy as np\n",
    "import matplotlib.pyplot as plt\n",
    "# scipi is a library for statistical tests and visualizations \n",
    "from scipy import stats\n",
    "# random enables us to generate random numbers\n",
    "import random"
   ]
  },
  {
   "cell_type": "markdown",
   "metadata": {
    "colab_type": "text",
    "id": "zVD7NlPAFcup"
   },
   "source": [
    "## Stage 1 -  Sourcing and loading data"
   ]
  },
  {
   "cell_type": "markdown",
   "metadata": {
    "colab_type": "text",
    "id": "KU8bdbImFcuq"
   },
   "source": [
    "### 1a. Source and load the data\n",
    "Let's download the data from Kaggle. Kaggle is a fantastic resource: a kind of social medium for data scientists, it boasts projects, datasets and news on the freshest libraries and technologies all in one place. The data from the Apple Store can be found [here](https://www.kaggle.com/ramamet4/app-store-apple-data-set-10k-apps) and the data from Google Store can be found [here](https://www.kaggle.com/lava18/google-play-store-apps).\n",
    "Download the datasets and save them in your working directory."
   ]
  },
  {
   "cell_type": "code",
   "execution_count": 2,
   "metadata": {
    "colab": {},
    "colab_type": "code",
    "id": "laM1PB76Fcur"
   },
   "outputs": [
    {
     "data": {
      "text/html": [
       "<div>\n",
       "<style scoped>\n",
       "    .dataframe tbody tr th:only-of-type {\n",
       "        vertical-align: middle;\n",
       "    }\n",
       "\n",
       "    .dataframe tbody tr th {\n",
       "        vertical-align: top;\n",
       "    }\n",
       "\n",
       "    .dataframe thead th {\n",
       "        text-align: right;\n",
       "    }\n",
       "</style>\n",
       "<table border=\"1\" class=\"dataframe\">\n",
       "  <thead>\n",
       "    <tr style=\"text-align: right;\">\n",
       "      <th></th>\n",
       "      <th>App</th>\n",
       "      <th>Category</th>\n",
       "      <th>Rating</th>\n",
       "      <th>Reviews</th>\n",
       "      <th>Size</th>\n",
       "      <th>Installs</th>\n",
       "      <th>Type</th>\n",
       "      <th>Price</th>\n",
       "      <th>Content Rating</th>\n",
       "      <th>Genres</th>\n",
       "      <th>Last Updated</th>\n",
       "      <th>Current Ver</th>\n",
       "      <th>Android Ver</th>\n",
       "    </tr>\n",
       "  </thead>\n",
       "  <tbody>\n",
       "    <tr>\n",
       "      <th>0</th>\n",
       "      <td>Photo Editor &amp; Candy Camera &amp; Grid &amp; ScrapBook</td>\n",
       "      <td>ART_AND_DESIGN</td>\n",
       "      <td>4.1</td>\n",
       "      <td>159</td>\n",
       "      <td>19M</td>\n",
       "      <td>10,000+</td>\n",
       "      <td>Free</td>\n",
       "      <td>0</td>\n",
       "      <td>Everyone</td>\n",
       "      <td>Art &amp; Design</td>\n",
       "      <td>January 7, 2018</td>\n",
       "      <td>1.0.0</td>\n",
       "      <td>4.0.3 and up</td>\n",
       "    </tr>\n",
       "    <tr>\n",
       "      <th>1</th>\n",
       "      <td>Coloring book moana</td>\n",
       "      <td>ART_AND_DESIGN</td>\n",
       "      <td>3.9</td>\n",
       "      <td>967</td>\n",
       "      <td>14M</td>\n",
       "      <td>500,000+</td>\n",
       "      <td>Free</td>\n",
       "      <td>0</td>\n",
       "      <td>Everyone</td>\n",
       "      <td>Art &amp; Design;Pretend Play</td>\n",
       "      <td>January 15, 2018</td>\n",
       "      <td>2.0.0</td>\n",
       "      <td>4.0.3 and up</td>\n",
       "    </tr>\n",
       "    <tr>\n",
       "      <th>2</th>\n",
       "      <td>U Launcher Lite – FREE Live Cool Themes, Hide ...</td>\n",
       "      <td>ART_AND_DESIGN</td>\n",
       "      <td>4.7</td>\n",
       "      <td>87510</td>\n",
       "      <td>8.7M</td>\n",
       "      <td>5,000,000+</td>\n",
       "      <td>Free</td>\n",
       "      <td>0</td>\n",
       "      <td>Everyone</td>\n",
       "      <td>Art &amp; Design</td>\n",
       "      <td>August 1, 2018</td>\n",
       "      <td>1.2.4</td>\n",
       "      <td>4.0.3 and up</td>\n",
       "    </tr>\n",
       "  </tbody>\n",
       "</table>\n",
       "</div>"
      ],
      "text/plain": [
       "                                                 App        Category  Rating  \\\n",
       "0     Photo Editor & Candy Camera & Grid & ScrapBook  ART_AND_DESIGN     4.1   \n",
       "1                                Coloring book moana  ART_AND_DESIGN     3.9   \n",
       "2  U Launcher Lite – FREE Live Cool Themes, Hide ...  ART_AND_DESIGN     4.7   \n",
       "\n",
       "  Reviews  Size    Installs  Type Price Content Rating  \\\n",
       "0     159   19M     10,000+  Free     0       Everyone   \n",
       "1     967   14M    500,000+  Free     0       Everyone   \n",
       "2   87510  8.7M  5,000,000+  Free     0       Everyone   \n",
       "\n",
       "                      Genres      Last Updated Current Ver   Android Ver  \n",
       "0               Art & Design   January 7, 2018       1.0.0  4.0.3 and up  \n",
       "1  Art & Design;Pretend Play  January 15, 2018       2.0.0  4.0.3 and up  \n",
       "2               Art & Design    August 1, 2018       1.2.4  4.0.3 and up  "
      ]
     },
     "execution_count": 2,
     "metadata": {},
     "output_type": "execute_result"
    }
   ],
   "source": [
    "# Now that the files are saved, we want to load them into Python using read_csv and pandas.\n",
    "\n",
    "# Create a variable called google, and store in it the path of the csv file that contains your google dataset. \n",
    "# If your dataset is in the same folder as this notebook, the path will simply be the name of the file. \n",
    "google = 'googleplaystore.csv'\n",
    "\n",
    "# Read the csv file into a data frame called Google using the read_csv() pandas method.\n",
    "Google = pd.read_csv(google)\n",
    "\n",
    "# Using the head() pandas method, observe the first three entries.\n",
    "Google.head(3)"
   ]
  },
  {
   "cell_type": "code",
   "execution_count": 3,
   "metadata": {
    "colab": {},
    "colab_type": "code",
    "id": "3AW8EA1wFcuu"
   },
   "outputs": [
    {
     "data": {
      "text/html": [
       "<div>\n",
       "<style scoped>\n",
       "    .dataframe tbody tr th:only-of-type {\n",
       "        vertical-align: middle;\n",
       "    }\n",
       "\n",
       "    .dataframe tbody tr th {\n",
       "        vertical-align: top;\n",
       "    }\n",
       "\n",
       "    .dataframe thead th {\n",
       "        text-align: right;\n",
       "    }\n",
       "</style>\n",
       "<table border=\"1\" class=\"dataframe\">\n",
       "  <thead>\n",
       "    <tr style=\"text-align: right;\">\n",
       "      <th></th>\n",
       "      <th>Unnamed: 0</th>\n",
       "      <th>id</th>\n",
       "      <th>track_name</th>\n",
       "      <th>size_bytes</th>\n",
       "      <th>currency</th>\n",
       "      <th>price</th>\n",
       "      <th>rating_count_tot</th>\n",
       "      <th>rating_count_ver</th>\n",
       "      <th>user_rating</th>\n",
       "      <th>user_rating_ver</th>\n",
       "      <th>ver</th>\n",
       "      <th>cont_rating</th>\n",
       "      <th>prime_genre</th>\n",
       "      <th>sup_devices.num</th>\n",
       "      <th>ipadSc_urls.num</th>\n",
       "      <th>lang.num</th>\n",
       "      <th>vpp_lic</th>\n",
       "    </tr>\n",
       "  </thead>\n",
       "  <tbody>\n",
       "    <tr>\n",
       "      <th>0</th>\n",
       "      <td>1</td>\n",
       "      <td>281656475</td>\n",
       "      <td>PAC-MAN Premium</td>\n",
       "      <td>100788224</td>\n",
       "      <td>USD</td>\n",
       "      <td>3.99</td>\n",
       "      <td>21292</td>\n",
       "      <td>26</td>\n",
       "      <td>4.0</td>\n",
       "      <td>4.5</td>\n",
       "      <td>6.3.5</td>\n",
       "      <td>4+</td>\n",
       "      <td>Games</td>\n",
       "      <td>38</td>\n",
       "      <td>5</td>\n",
       "      <td>10</td>\n",
       "      <td>1</td>\n",
       "    </tr>\n",
       "    <tr>\n",
       "      <th>1</th>\n",
       "      <td>2</td>\n",
       "      <td>281796108</td>\n",
       "      <td>Evernote - stay organized</td>\n",
       "      <td>158578688</td>\n",
       "      <td>USD</td>\n",
       "      <td>0.00</td>\n",
       "      <td>161065</td>\n",
       "      <td>26</td>\n",
       "      <td>4.0</td>\n",
       "      <td>3.5</td>\n",
       "      <td>8.2.2</td>\n",
       "      <td>4+</td>\n",
       "      <td>Productivity</td>\n",
       "      <td>37</td>\n",
       "      <td>5</td>\n",
       "      <td>23</td>\n",
       "      <td>1</td>\n",
       "    </tr>\n",
       "    <tr>\n",
       "      <th>2</th>\n",
       "      <td>3</td>\n",
       "      <td>281940292</td>\n",
       "      <td>WeatherBug - Local Weather, Radar, Maps, Alerts</td>\n",
       "      <td>100524032</td>\n",
       "      <td>USD</td>\n",
       "      <td>0.00</td>\n",
       "      <td>188583</td>\n",
       "      <td>2822</td>\n",
       "      <td>3.5</td>\n",
       "      <td>4.5</td>\n",
       "      <td>5.0.0</td>\n",
       "      <td>4+</td>\n",
       "      <td>Weather</td>\n",
       "      <td>37</td>\n",
       "      <td>5</td>\n",
       "      <td>3</td>\n",
       "      <td>1</td>\n",
       "    </tr>\n",
       "  </tbody>\n",
       "</table>\n",
       "</div>"
      ],
      "text/plain": [
       "   Unnamed: 0         id                                       track_name  \\\n",
       "0           1  281656475                                  PAC-MAN Premium   \n",
       "1           2  281796108                        Evernote - stay organized   \n",
       "2           3  281940292  WeatherBug - Local Weather, Radar, Maps, Alerts   \n",
       "\n",
       "   size_bytes currency  price  rating_count_tot  rating_count_ver  \\\n",
       "0   100788224      USD   3.99             21292                26   \n",
       "1   158578688      USD   0.00            161065                26   \n",
       "2   100524032      USD   0.00            188583              2822   \n",
       "\n",
       "   user_rating  user_rating_ver    ver cont_rating   prime_genre  \\\n",
       "0          4.0              4.5  6.3.5          4+         Games   \n",
       "1          4.0              3.5  8.2.2          4+  Productivity   \n",
       "2          3.5              4.5  5.0.0          4+       Weather   \n",
       "\n",
       "   sup_devices.num  ipadSc_urls.num  lang.num  vpp_lic  \n",
       "0               38                5        10        1  \n",
       "1               37                5        23        1  \n",
       "2               37                5         3        1  "
      ]
     },
     "execution_count": 3,
     "metadata": {},
     "output_type": "execute_result"
    }
   ],
   "source": [
    "# Create a variable called apple, and store in it the path of the csv file that contains your apple dataset. \n",
    "apple = 'AppleStore.csv'\n",
    "\n",
    "# Read the csv file into a pandas DataFrame object called Apple.\n",
    "Apple = pd.read_csv(apple)\n",
    "# Observe the first three entries like you did with your other data. \n",
    "Apple.head(3)"
   ]
  },
  {
   "cell_type": "markdown",
   "metadata": {
    "colab_type": "text",
    "id": "vljOHKNTFcuw"
   },
   "source": [
    "### 1b. Pick the columns we'll work with\n",
    "\n",
    "From the documentation of these datasets, we can infer that the most appropriate columns to answer the brief are:\n",
    "\n",
    "1. Google:\n",
    "    * `Category` # Do we need this?\n",
    "    * `Rating`\n",
    "    * `Reviews`\n",
    "    * `Price` (maybe)\n",
    "2. Apple:    \n",
    "    * `prime_genre` # Do we need this?\n",
    "    * `user_rating` \n",
    "    * `rating_count_tot`\n",
    "    * `price` (maybe)"
   ]
  },
  {
   "cell_type": "markdown",
   "metadata": {
    "colab_type": "text",
    "id": "uf69AeTvFcux"
   },
   "source": [
    "### 1c. Subsetting accordingly\n",
    "\n",
    "Let's select only those columns that we want to work with from both datasets. We'll overwrite the subsets in the original variables."
   ]
  },
  {
   "cell_type": "code",
   "execution_count": 4,
   "metadata": {
    "colab": {},
    "colab_type": "code",
    "id": "LNSDXyjdFcuy"
   },
   "outputs": [
    {
     "data": {
      "text/html": [
       "<div>\n",
       "<style scoped>\n",
       "    .dataframe tbody tr th:only-of-type {\n",
       "        vertical-align: middle;\n",
       "    }\n",
       "\n",
       "    .dataframe tbody tr th {\n",
       "        vertical-align: top;\n",
       "    }\n",
       "\n",
       "    .dataframe thead th {\n",
       "        text-align: right;\n",
       "    }\n",
       "</style>\n",
       "<table border=\"1\" class=\"dataframe\">\n",
       "  <thead>\n",
       "    <tr style=\"text-align: right;\">\n",
       "      <th></th>\n",
       "      <th>Category</th>\n",
       "      <th>Rating</th>\n",
       "      <th>Reviews</th>\n",
       "      <th>Price</th>\n",
       "    </tr>\n",
       "  </thead>\n",
       "  <tbody>\n",
       "    <tr>\n",
       "      <th>0</th>\n",
       "      <td>ART_AND_DESIGN</td>\n",
       "      <td>4.1</td>\n",
       "      <td>159</td>\n",
       "      <td>0</td>\n",
       "    </tr>\n",
       "    <tr>\n",
       "      <th>1</th>\n",
       "      <td>ART_AND_DESIGN</td>\n",
       "      <td>3.9</td>\n",
       "      <td>967</td>\n",
       "      <td>0</td>\n",
       "    </tr>\n",
       "    <tr>\n",
       "      <th>2</th>\n",
       "      <td>ART_AND_DESIGN</td>\n",
       "      <td>4.7</td>\n",
       "      <td>87510</td>\n",
       "      <td>0</td>\n",
       "    </tr>\n",
       "  </tbody>\n",
       "</table>\n",
       "</div>"
      ],
      "text/plain": [
       "         Category  Rating Reviews Price\n",
       "0  ART_AND_DESIGN     4.1     159     0\n",
       "1  ART_AND_DESIGN     3.9     967     0\n",
       "2  ART_AND_DESIGN     4.7   87510     0"
      ]
     },
     "execution_count": 4,
     "metadata": {},
     "output_type": "execute_result"
    }
   ],
   "source": [
    "# Subset our DataFrame object Google by selecting just the variables ['Category', 'Rating', 'Reviews', 'Price']\n",
    "Google = Google[['Category','Rating','Reviews','Price']]\n",
    "\n",
    "# Check the first three entries\n",
    "Google.head(3)"
   ]
  },
  {
   "cell_type": "code",
   "execution_count": 5,
   "metadata": {
    "colab": {},
    "colab_type": "code",
    "id": "AVCtENPtFcu0"
   },
   "outputs": [
    {
     "data": {
      "text/html": [
       "<div>\n",
       "<style scoped>\n",
       "    .dataframe tbody tr th:only-of-type {\n",
       "        vertical-align: middle;\n",
       "    }\n",
       "\n",
       "    .dataframe tbody tr th {\n",
       "        vertical-align: top;\n",
       "    }\n",
       "\n",
       "    .dataframe thead th {\n",
       "        text-align: right;\n",
       "    }\n",
       "</style>\n",
       "<table border=\"1\" class=\"dataframe\">\n",
       "  <thead>\n",
       "    <tr style=\"text-align: right;\">\n",
       "      <th></th>\n",
       "      <th>prime_genre</th>\n",
       "      <th>user_rating</th>\n",
       "      <th>rating_count_tot</th>\n",
       "      <th>price</th>\n",
       "    </tr>\n",
       "  </thead>\n",
       "  <tbody>\n",
       "    <tr>\n",
       "      <th>0</th>\n",
       "      <td>Games</td>\n",
       "      <td>4.0</td>\n",
       "      <td>21292</td>\n",
       "      <td>3.99</td>\n",
       "    </tr>\n",
       "    <tr>\n",
       "      <th>1</th>\n",
       "      <td>Productivity</td>\n",
       "      <td>4.0</td>\n",
       "      <td>161065</td>\n",
       "      <td>0.00</td>\n",
       "    </tr>\n",
       "    <tr>\n",
       "      <th>2</th>\n",
       "      <td>Weather</td>\n",
       "      <td>3.5</td>\n",
       "      <td>188583</td>\n",
       "      <td>0.00</td>\n",
       "    </tr>\n",
       "  </tbody>\n",
       "</table>\n",
       "</div>"
      ],
      "text/plain": [
       "    prime_genre  user_rating  rating_count_tot  price\n",
       "0         Games          4.0             21292   3.99\n",
       "1  Productivity          4.0            161065   0.00\n",
       "2       Weather          3.5            188583   0.00"
      ]
     },
     "execution_count": 5,
     "metadata": {},
     "output_type": "execute_result"
    }
   ],
   "source": [
    "# Do the same with our Apple object, selecting just the variables ['prime_genre', 'user_rating', 'rating_count_tot', 'price']\n",
    "Apple = Apple[['prime_genre','user_rating','rating_count_tot','price']]\n",
    "\n",
    "# Let's check the first three entries\n",
    "Apple.head(3)"
   ]
  },
  {
   "cell_type": "markdown",
   "metadata": {
    "colab_type": "text",
    "id": "wwK2wH-rFcu2"
   },
   "source": [
    "## Stage 2 -  Cleaning, transforming and visualizing"
   ]
  },
  {
   "cell_type": "markdown",
   "metadata": {
    "colab_type": "text",
    "id": "NsoE5x0JFcu3"
   },
   "source": [
    "### 2a. Check the data types for both Apple and Google, and fix them\n",
    "\n",
    "Types are crucial for data science in Python. Let's determine whether the variables we selected in the previous section belong to the types they should do, or whether there are any errors here. "
   ]
  },
  {
   "cell_type": "code",
   "execution_count": 6,
   "metadata": {
    "colab": {},
    "colab_type": "code",
    "id": "ymw10SaWFcu4"
   },
   "outputs": [
    {
     "data": {
      "text/plain": [
       "prime_genre          object\n",
       "user_rating         float64\n",
       "rating_count_tot      int64\n",
       "price               float64\n",
       "dtype: object"
      ]
     },
     "execution_count": 6,
     "metadata": {},
     "output_type": "execute_result"
    }
   ],
   "source": [
    "# Using the dtypes feature of pandas DataFrame objects, check out the data types within our Apple dataframe.\n",
    "# Are they what you expect?\n",
    "Apple.dtypes"
   ]
  },
  {
   "cell_type": "markdown",
   "metadata": {
    "colab_type": "text",
    "id": "VAiM6jIxFcu6"
   },
   "source": [
    "This is looking healthy. But what about our Google data frame?"
   ]
  },
  {
   "cell_type": "code",
   "execution_count": 7,
   "metadata": {
    "colab": {},
    "colab_type": "code",
    "id": "kmP8MhqyFcu7"
   },
   "outputs": [
    {
     "data": {
      "text/plain": [
       "Category     object\n",
       "Rating      float64\n",
       "Reviews      object\n",
       "Price        object\n",
       "dtype: object"
      ]
     },
     "execution_count": 7,
     "metadata": {},
     "output_type": "execute_result"
    }
   ],
   "source": [
    "# Using the same dtypes feature, check out the data types of our Google dataframe. \n",
    "Google.dtypes"
   ]
  },
  {
   "cell_type": "markdown",
   "metadata": {
    "colab_type": "text",
    "id": "O-dxAy0WFcu9"
   },
   "source": [
    "Weird. The data type for the column 'Price' is 'object', not a numeric data type like a float or an integer. Let's investigate the unique values of this column. "
   ]
  },
  {
   "cell_type": "code",
   "execution_count": 8,
   "metadata": {
    "colab": {},
    "colab_type": "code",
    "id": "Hu08K9y7Fcu9"
   },
   "outputs": [
    {
     "data": {
      "text/plain": [
       "array(['0', '$4.99', '$3.99', '$6.99', '$1.49', '$2.99', '$7.99', '$5.99',\n",
       "       '$3.49', '$1.99', '$9.99', '$7.49', '$0.99', '$9.00', '$5.49',\n",
       "       '$10.00', '$24.99', '$11.99', '$79.99', '$16.99', '$14.99',\n",
       "       '$1.00', '$29.99', '$12.99', '$2.49', '$10.99', '$1.50', '$19.99',\n",
       "       '$15.99', '$33.99', '$74.99', '$39.99', '$3.95', '$4.49', '$1.70',\n",
       "       '$8.99', '$2.00', '$3.88', '$25.99', '$399.99', '$17.99',\n",
       "       '$400.00', '$3.02', '$1.76', '$4.84', '$4.77', '$1.61', '$2.50',\n",
       "       '$1.59', '$6.49', '$1.29', '$5.00', '$13.99', '$299.99', '$379.99',\n",
       "       '$37.99', '$18.99', '$389.99', '$19.90', '$8.49', '$1.75',\n",
       "       '$14.00', '$4.85', '$46.99', '$109.99', '$154.99', '$3.08',\n",
       "       '$2.59', '$4.80', '$1.96', '$19.40', '$3.90', '$4.59', '$15.46',\n",
       "       '$3.04', '$4.29', '$2.60', '$3.28', '$4.60', '$28.99', '$2.95',\n",
       "       '$2.90', '$1.97', '$200.00', '$89.99', '$2.56', '$30.99', '$3.61',\n",
       "       '$394.99', '$1.26', 'Everyone', '$1.20', '$1.04'], dtype=object)"
      ]
     },
     "execution_count": 8,
     "metadata": {},
     "output_type": "execute_result"
    }
   ],
   "source": [
    "# Use the unique() pandas method on the Price column to check its unique values. \n",
    "Google.Price.unique()"
   ]
  },
  {
   "cell_type": "markdown",
   "metadata": {
    "colab_type": "text",
    "id": "w_7nkogFFcu_"
   },
   "source": [
    "Aha! Fascinating. There are actually two issues here. \n",
    "\n",
    "- Firstly, there's a price called `Everyone`. That is a massive mistake! \n",
    "- Secondly, there are dollar symbols everywhere! \n",
    "\n",
    "\n",
    "Let's address the first issue first. Let's check the datapoints that have the price value `Everyone`"
   ]
  },
  {
   "cell_type": "code",
   "execution_count": 9,
   "metadata": {
    "colab": {},
    "colab_type": "code",
    "id": "E75WWmhdFcvA"
   },
   "outputs": [
    {
     "data": {
      "text/html": [
       "<div>\n",
       "<style scoped>\n",
       "    .dataframe tbody tr th:only-of-type {\n",
       "        vertical-align: middle;\n",
       "    }\n",
       "\n",
       "    .dataframe tbody tr th {\n",
       "        vertical-align: top;\n",
       "    }\n",
       "\n",
       "    .dataframe thead th {\n",
       "        text-align: right;\n",
       "    }\n",
       "</style>\n",
       "<table border=\"1\" class=\"dataframe\">\n",
       "  <thead>\n",
       "    <tr style=\"text-align: right;\">\n",
       "      <th></th>\n",
       "      <th>Category</th>\n",
       "      <th>Rating</th>\n",
       "      <th>Reviews</th>\n",
       "      <th>Price</th>\n",
       "    </tr>\n",
       "  </thead>\n",
       "  <tbody>\n",
       "    <tr>\n",
       "      <th>10472</th>\n",
       "      <td>1.9</td>\n",
       "      <td>19.0</td>\n",
       "      <td>3.0M</td>\n",
       "      <td>Everyone</td>\n",
       "    </tr>\n",
       "  </tbody>\n",
       "</table>\n",
       "</div>"
      ],
      "text/plain": [
       "      Category  Rating Reviews     Price\n",
       "10472      1.9    19.0    3.0M  Everyone"
      ]
     },
     "execution_count": 9,
     "metadata": {},
     "output_type": "execute_result"
    }
   ],
   "source": [
    "# Let's check which data points have the value 'Everyone' for the 'Price' column by subsetting our Google dataframe.\n",
    "\n",
    "# Subset the Google dataframe on the price column. \n",
    "# To be sure: you want to pick out just those rows whose value for the 'Price' column is just 'Everyone'. \n",
    "Google[Google.Price == 'Everyone']"
   ]
  },
  {
   "cell_type": "markdown",
   "metadata": {
    "colab_type": "text",
    "id": "ezfLshdRFcvC"
   },
   "source": [
    "Thankfully, it's just one row. We've gotta get rid of it. "
   ]
  },
  {
   "cell_type": "code",
   "execution_count": 10,
   "metadata": {
    "colab": {},
    "colab_type": "code",
    "id": "DBmjUQUkFcvD"
   },
   "outputs": [
    {
     "data": {
      "text/plain": [
       "array(['0', '$4.99', '$3.99', '$6.99', '$1.49', '$2.99', '$7.99', '$5.99',\n",
       "       '$3.49', '$1.99', '$9.99', '$7.49', '$0.99', '$9.00', '$5.49',\n",
       "       '$10.00', '$24.99', '$11.99', '$79.99', '$16.99', '$14.99',\n",
       "       '$1.00', '$29.99', '$12.99', '$2.49', '$10.99', '$1.50', '$19.99',\n",
       "       '$15.99', '$33.99', '$74.99', '$39.99', '$3.95', '$4.49', '$1.70',\n",
       "       '$8.99', '$2.00', '$3.88', '$25.99', '$399.99', '$17.99',\n",
       "       '$400.00', '$3.02', '$1.76', '$4.84', '$4.77', '$1.61', '$2.50',\n",
       "       '$1.59', '$6.49', '$1.29', '$5.00', '$13.99', '$299.99', '$379.99',\n",
       "       '$37.99', '$18.99', '$389.99', '$19.90', '$8.49', '$1.75',\n",
       "       '$14.00', '$4.85', '$46.99', '$109.99', '$154.99', '$3.08',\n",
       "       '$2.59', '$4.80', '$1.96', '$19.40', '$3.90', '$4.59', '$15.46',\n",
       "       '$3.04', '$4.29', '$2.60', '$3.28', '$4.60', '$28.99', '$2.95',\n",
       "       '$2.90', '$1.97', '$200.00', '$89.99', '$2.56', '$30.99', '$3.61',\n",
       "       '$394.99', '$1.26', '$1.20', '$1.04'], dtype=object)"
      ]
     },
     "execution_count": 10,
     "metadata": {},
     "output_type": "execute_result"
    }
   ],
   "source": [
    "# Let's eliminate that row. \n",
    "\n",
    "# Subset our Google dataframe to pick out just those rows whose value for the 'Price' column is NOT 'Everyone'. \n",
    "# Reassign that subset to the Google variable. \n",
    "# You can do this in two lines or one. Your choice! \n",
    "Google = Google[Google.Price != 'Everyone']\n",
    "\n",
    "# Check again the unique values of Google\n",
    "Google.Price.unique()"
   ]
  },
  {
   "cell_type": "markdown",
   "metadata": {
    "colab_type": "text",
    "id": "T43TB4qFFcvF"
   },
   "source": [
    "Our second problem remains: I'm seeing dollar symbols when I close my eyes! (And not in a good way). \n",
    "\n",
    "This is a problem because Python actually considers these values strings. So we can't do mathematical and statistical operations on them until we've made them into numbers. "
   ]
  },
  {
   "cell_type": "code",
   "execution_count": 11,
   "metadata": {
    "colab": {},
    "colab_type": "code",
    "id": "W87gVS9BFcvG"
   },
   "outputs": [],
   "source": [
    "# Let's create a variable called nosymb.\n",
    "# This variable will take the Price column of Google and apply the str.replace() method. \n",
    "nosymb = Google.Price.str.replace('$', '')\n",
    "\n",
    "# Now we need to do two things:\n",
    "# i. Make the values in the nosymb variable numeric using the to_numeric() pandas method.\n",
    "# ii. Assign this new set of numeric, dollar-sign-less values to Google['Price']. \n",
    "# You can do this in one line if you wish.\n",
    "Google['Price'] = pd.to_numeric(nosymb)"
   ]
  },
  {
   "cell_type": "markdown",
   "metadata": {
    "colab_type": "text",
    "id": "LxpJQ9yyFcvI"
   },
   "source": [
    "Now let's check the data types for our Google dataframe again, to verify that the 'Price' column really is numeric now."
   ]
  },
  {
   "cell_type": "code",
   "execution_count": 12,
   "metadata": {
    "colab": {},
    "colab_type": "code",
    "id": "Fn5Gt-QbFcvI"
   },
   "outputs": [
    {
     "data": {
      "text/plain": [
       "Category     object\n",
       "Rating      float64\n",
       "Reviews      object\n",
       "Price       float64\n",
       "dtype: object"
      ]
     },
     "execution_count": 12,
     "metadata": {},
     "output_type": "execute_result"
    }
   ],
   "source": [
    "# Use the function dtypes. \n",
    "Google.dtypes"
   ]
  },
  {
   "cell_type": "markdown",
   "metadata": {
    "colab_type": "text",
    "id": "FgfuiVo0FcvK"
   },
   "source": [
    "Notice that the column `Reviews` is still an object column. We actually need this column to be a numeric column, too. "
   ]
  },
  {
   "cell_type": "code",
   "execution_count": 13,
   "metadata": {
    "colab": {},
    "colab_type": "code",
    "id": "MiVEWsWBFcvL"
   },
   "outputs": [],
   "source": [
    "# Convert the 'Reviews' column to a numeric data type. \n",
    "Google.Reviews = Google.Reviews.astype('float64')"
   ]
  },
  {
   "cell_type": "code",
   "execution_count": 14,
   "metadata": {
    "colab": {},
    "colab_type": "code",
    "id": "wWJdXXTTFcvN"
   },
   "outputs": [
    {
     "data": {
      "text/plain": [
       "Category     object\n",
       "Rating      float64\n",
       "Reviews     float64\n",
       "Price       float64\n",
       "dtype: object"
      ]
     },
     "execution_count": 14,
     "metadata": {},
     "output_type": "execute_result"
    }
   ],
   "source": [
    "# Let's check the data types of Google again\n",
    "Google.dtypes"
   ]
  },
  {
   "cell_type": "markdown",
   "metadata": {
    "colab_type": "text",
    "id": "OiLm2GEKFcvP"
   },
   "source": [
    "### 2b. Add a `platform` column to both the `Apple` and the `Google` dataframes\n",
    "Let's add a new column to both dataframe objects called `platform`: all of its values in the Google dataframe will be just 'google', and all of its values for the Apple dataframe will be just 'apple'. \n",
    "\n",
    "The reason we're making this column is so that we can ultimately join our Apple and Google data together, and actually test out some hypotheses to solve the problem in our brief. "
   ]
  },
  {
   "cell_type": "code",
   "execution_count": 15,
   "metadata": {
    "colab": {},
    "colab_type": "code",
    "id": "mF-sOcx2FcvQ"
   },
   "outputs": [],
   "source": [
    "# Create a column called 'platform' in both the Apple and Google dataframes. \n",
    "# Add the value 'apple' and the value 'google' as appropriate. \n",
    "Google['platform'] = 'google'\n",
    "Apple['platform'] = 'apple'"
   ]
  },
  {
   "cell_type": "markdown",
   "metadata": {
    "colab_type": "text",
    "id": "EJcry17IFcvS"
   },
   "source": [
    "### 2c. Changing the column names to prepare for our join of the two datasets \n",
    "Since the easiest way to join two datasets is if they have both:\n",
    "- the same number of columns\n",
    "- the same column names\n",
    "we need to rename the columns of `Apple` so that they're the same as the ones of `Google`, or vice versa.\n",
    "\n",
    "In this case, we're going to change the `Apple` columns names to the names of the `Google` columns. \n",
    "\n",
    "This is an important step to unify the two datasets!"
   ]
  },
  {
   "cell_type": "code",
   "execution_count": 16,
   "metadata": {
    "colab": {},
    "colab_type": "code",
    "id": "bdt9XH2KFcvT"
   },
   "outputs": [],
   "source": [
    "# Create a variable called old_names where you'll store the column names of the Apple dataframe. \n",
    "# Use the feature .columns.\n",
    "old_names = Apple.columns\n",
    "\n",
    "# Create a variable called new_names where you'll store the column names of the Google dataframe. \n",
    "new_names = Google.columns\n",
    "\n",
    "# Use the rename() DataFrame method to change the columns names. \n",
    "Apple.rename(columns=dict(zip(old_names, new_names)), inplace = True)\n"
   ]
  },
  {
   "cell_type": "markdown",
   "metadata": {
    "colab_type": "text",
    "id": "qewPiLrRFcvX"
   },
   "source": [
    "### 2d. Join the two datasets \n",
    "Let's combine the two datasets into a single data frame called `df`."
   ]
  },
  {
   "cell_type": "code",
   "execution_count": 17,
   "metadata": {},
   "outputs": [
    {
     "name": "stdout",
     "output_type": "stream",
     "text": [
      "<class 'pandas.core.frame.DataFrame'>\n",
      "<class 'pandas.core.frame.DataFrame'>\n"
     ]
    }
   ],
   "source": [
    "print(type(Google))\n",
    "print(type(Apple))"
   ]
  },
  {
   "cell_type": "code",
   "execution_count": 18,
   "metadata": {
    "colab": {},
    "colab_type": "code",
    "id": "jq6fGfvyFcvY"
   },
   "outputs": [
    {
     "data": {
      "text/html": [
       "<div>\n",
       "<style scoped>\n",
       "    .dataframe tbody tr th:only-of-type {\n",
       "        vertical-align: middle;\n",
       "    }\n",
       "\n",
       "    .dataframe tbody tr th {\n",
       "        vertical-align: top;\n",
       "    }\n",
       "\n",
       "    .dataframe thead th {\n",
       "        text-align: right;\n",
       "    }\n",
       "</style>\n",
       "<table border=\"1\" class=\"dataframe\">\n",
       "  <thead>\n",
       "    <tr style=\"text-align: right;\">\n",
       "      <th></th>\n",
       "      <th>Category</th>\n",
       "      <th>Rating</th>\n",
       "      <th>Reviews</th>\n",
       "      <th>Price</th>\n",
       "      <th>platform</th>\n",
       "    </tr>\n",
       "  </thead>\n",
       "  <tbody>\n",
       "    <tr>\n",
       "      <th>5139</th>\n",
       "      <td>MEDICAL</td>\n",
       "      <td>5.0</td>\n",
       "      <td>1.0</td>\n",
       "      <td>0.00</td>\n",
       "      <td>google</td>\n",
       "    </tr>\n",
       "    <tr>\n",
       "      <th>4200</th>\n",
       "      <td>Games</td>\n",
       "      <td>4.5</td>\n",
       "      <td>1468.0</td>\n",
       "      <td>0.00</td>\n",
       "      <td>apple</td>\n",
       "    </tr>\n",
       "    <tr>\n",
       "      <th>7387</th>\n",
       "      <td>PRODUCTIVITY</td>\n",
       "      <td>NaN</td>\n",
       "      <td>4.0</td>\n",
       "      <td>0.00</td>\n",
       "      <td>google</td>\n",
       "    </tr>\n",
       "    <tr>\n",
       "      <th>7931</th>\n",
       "      <td>FAMILY</td>\n",
       "      <td>4.0</td>\n",
       "      <td>28136.0</td>\n",
       "      <td>0.00</td>\n",
       "      <td>google</td>\n",
       "    </tr>\n",
       "    <tr>\n",
       "      <th>5957</th>\n",
       "      <td>SPORTS</td>\n",
       "      <td>4.4</td>\n",
       "      <td>55.0</td>\n",
       "      <td>4.49</td>\n",
       "      <td>google</td>\n",
       "    </tr>\n",
       "    <tr>\n",
       "      <th>3312</th>\n",
       "      <td>TOOLS</td>\n",
       "      <td>4.0</td>\n",
       "      <td>807.0</td>\n",
       "      <td>0.00</td>\n",
       "      <td>google</td>\n",
       "    </tr>\n",
       "    <tr>\n",
       "      <th>2390</th>\n",
       "      <td>Games</td>\n",
       "      <td>4.5</td>\n",
       "      <td>503.0</td>\n",
       "      <td>1.99</td>\n",
       "      <td>apple</td>\n",
       "    </tr>\n",
       "    <tr>\n",
       "      <th>5298</th>\n",
       "      <td>PERSONALIZATION</td>\n",
       "      <td>NaN</td>\n",
       "      <td>0.0</td>\n",
       "      <td>0.00</td>\n",
       "      <td>google</td>\n",
       "    </tr>\n",
       "    <tr>\n",
       "      <th>222</th>\n",
       "      <td>Travel</td>\n",
       "      <td>4.0</td>\n",
       "      <td>248.0</td>\n",
       "      <td>0.00</td>\n",
       "      <td>apple</td>\n",
       "    </tr>\n",
       "    <tr>\n",
       "      <th>4731</th>\n",
       "      <td>Games</td>\n",
       "      <td>4.5</td>\n",
       "      <td>422.0</td>\n",
       "      <td>0.00</td>\n",
       "      <td>apple</td>\n",
       "    </tr>\n",
       "    <tr>\n",
       "      <th>2811</th>\n",
       "      <td>Games</td>\n",
       "      <td>4.5</td>\n",
       "      <td>2043.0</td>\n",
       "      <td>0.00</td>\n",
       "      <td>apple</td>\n",
       "    </tr>\n",
       "    <tr>\n",
       "      <th>2711</th>\n",
       "      <td>SHOPPING</td>\n",
       "      <td>4.3</td>\n",
       "      <td>213735.0</td>\n",
       "      <td>0.00</td>\n",
       "      <td>google</td>\n",
       "    </tr>\n",
       "  </tbody>\n",
       "</table>\n",
       "</div>"
      ],
      "text/plain": [
       "             Category  Rating   Reviews  Price platform\n",
       "5139          MEDICAL     5.0       1.0   0.00   google\n",
       "4200            Games     4.5    1468.0   0.00    apple\n",
       "7387     PRODUCTIVITY     NaN       4.0   0.00   google\n",
       "7931           FAMILY     4.0   28136.0   0.00   google\n",
       "5957           SPORTS     4.4      55.0   4.49   google\n",
       "3312            TOOLS     4.0     807.0   0.00   google\n",
       "2390            Games     4.5     503.0   1.99    apple\n",
       "5298  PERSONALIZATION     NaN       0.0   0.00   google\n",
       "222            Travel     4.0     248.0   0.00    apple\n",
       "4731            Games     4.5     422.0   0.00    apple\n",
       "2811            Games     4.5    2043.0   0.00    apple\n",
       "2711         SHOPPING     4.3  213735.0   0.00   google"
      ]
     },
     "execution_count": 18,
     "metadata": {},
     "output_type": "execute_result"
    }
   ],
   "source": [
    "# Let's use the append() method to append Apple to Google. \n",
    "df = pd.concat([Google, Apple])\n",
    "# Using the sample() method with the number 12 passed to it, check 12 random points of your dataset.\n",
    "df.sample(12)"
   ]
  },
  {
   "cell_type": "markdown",
   "metadata": {
    "colab_type": "text",
    "id": "FjqsHugWFcvb"
   },
   "source": [
    "### 2e. Eliminate the NaN values\n",
    "\n",
    "As you can see there are some `NaN` values. We want to eliminate all these `NaN` values from the table."
   ]
  },
  {
   "cell_type": "code",
   "execution_count": 19,
   "metadata": {
    "colab": {},
    "colab_type": "code",
    "id": "Gp2q6GLyFcvb"
   },
   "outputs": [
    {
     "name": "stdout",
     "output_type": "stream",
     "text": [
      "(18037, 5)\n",
      "(16563, 5)\n"
     ]
    }
   ],
   "source": [
    "# Lets check first the dimesions of df before droping `NaN` values. Use the .shape feature. \n",
    "print(df.shape)\n",
    "\n",
    "# Use the dropna() method to eliminate all the NaN values, and overwrite the same dataframe with the result. \n",
    "df.dropna(inplace = True)\n",
    "#\n",
    "# Check the new dimesions of our dataframe. \n",
    "print(df.shape)"
   ]
  },
  {
   "cell_type": "markdown",
   "metadata": {
    "colab_type": "text",
    "id": "qtfeQKtAFcvd"
   },
   "source": [
    "### 2f. Filter the data so that we only see whose apps that have been reviewed at least once\n",
    "\n",
    "Apps that haven't been reviewed yet can't help us solve our brief. \n",
    "\n",
    "So let's check to see if any apps have no reviews at all. "
   ]
  },
  {
   "cell_type": "code",
   "execution_count": 20,
   "metadata": {
    "colab": {},
    "colab_type": "code",
    "id": "Ge9OKXLNFcvd"
   },
   "outputs": [
    {
     "data": {
      "text/plain": [
       "Category    929\n",
       "Rating      929\n",
       "Reviews     929\n",
       "Price       929\n",
       "platform    929\n",
       "dtype: int64"
      ]
     },
     "execution_count": 20,
     "metadata": {},
     "output_type": "execute_result"
    }
   ],
   "source": [
    "# Subset your df to pick out just those rows whose value for 'Reviews' is equal to 0. \n",
    "# Do a count() on the result. \n",
    "df[df.Reviews == 0.0].count()"
   ]
  },
  {
   "cell_type": "markdown",
   "metadata": {
    "colab_type": "text",
    "id": "05f7H0kAFcvg"
   },
   "source": [
    "929 apps do not have reviews, we need to eliminate these points!"
   ]
  },
  {
   "cell_type": "code",
   "execution_count": 21,
   "metadata": {
    "colab": {},
    "colab_type": "code",
    "id": "pD8vmPjkFcvg"
   },
   "outputs": [],
   "source": [
    "# Eliminate the points that have 0 reviews.\n",
    "df = df[df.Reviews != 0.0]"
   ]
  },
  {
   "cell_type": "markdown",
   "metadata": {
    "colab_type": "text",
    "id": "ApnKES_bFcvi"
   },
   "source": [
    "### 2g. Summarize the data visually and analytically (by the column `platform`)"
   ]
  },
  {
   "cell_type": "markdown",
   "metadata": {
    "colab_type": "text",
    "id": "2smt9UocFcvj"
   },
   "source": [
    "What we need to solve our brief is a summary of the `Rating` column, but separated by the different platforms."
   ]
  },
  {
   "cell_type": "code",
   "execution_count": 22,
   "metadata": {
    "colab": {},
    "colab_type": "code",
    "id": "Vqckt347Fcvj"
   },
   "outputs": [
    {
     "data": {
      "text/plain": [
       "platform\n",
       "apple     4.049697\n",
       "google    4.191757\n",
       "Name: Rating, dtype: float64"
      ]
     },
     "execution_count": 22,
     "metadata": {},
     "output_type": "execute_result"
    }
   ],
   "source": [
    "# To summarize analytically, let's use the groupby() method on our df.\n",
    "df.groupby(['platform'])['Rating'].mean()"
   ]
  },
  {
   "cell_type": "markdown",
   "metadata": {
    "colab_type": "text",
    "id": "8f9TqMtKFcvl"
   },
   "source": [
    "Interesting! Our means of 4.049697 and 4.191757 don't **seem** all that different! Perhaps we've solved our brief already: there's no significant difference between Google Play app reviews and Apple Store app reviews. We have an ***observed difference*** here: which is simply (4.191757 - 4.049697) = 0.14206. This is just the actual difference that we observed between the mean rating for apps from Google Play, and the mean rating for apps from the Apple Store. Let's look at how we're going to use this observed difference to solve our problem using a statistical test. \n",
    "\n",
    "**Outline of our method:**\n",
    "1. We'll assume that platform (i.e, whether the app was Google or Apple) really doesn’t impact on ratings. \n",
    "\n",
    "\n",
    "2. Given this assumption, we should actually be able to get a difference in mean rating for Apple apps and mean rating for Google apps that's pretty similar to the one we actually got (0.14206) just by: \n",
    "a. shuffling the ratings column, \n",
    "b. keeping the platform column the same,\n",
    "c. calculating the difference between the mean rating for Apple and the mean rating for Google. \n",
    "\n",
    "\n",
    "3. We can make the shuffle more useful by doing it many times, each time calculating the mean rating for Apple apps and the mean rating for Google apps, and the difference between these means. \n",
    "\n",
    "\n",
    "4. We can then take the mean of all these differences, and this will be called our permutation difference. This permutation difference will be great indicator of what the difference would be if our initial assumption were true and platform really doesn’t impact on ratings. \n",
    "\n",
    "\n",
    "5. Now we do a comparison. If the observed difference looks just like the permutation difference, then we stick with the claim that actually, platform doesn’t impact on ratings. If instead, however, the permutation difference differs significantly from the observed difference, we'll conclude: something's going on; the platform does in fact impact on ratings. \n",
    "\n",
    "\n",
    "6. As for what the definition of *significantly* is, we'll get to that. But there’s a brief summary of what we're going to do. Exciting!\n",
    "\n",
    "If you want to look more deeply at the statistics behind this project, check out [this resource](https://www.springboard.com/archeio/download/4ea4d453b0b84014bcef287c50f47f00/)."
   ]
  },
  {
   "cell_type": "markdown",
   "metadata": {
    "colab_type": "text",
    "id": "d6EhTxArFcvm"
   },
   "source": [
    "Let's also get a **visual summary** of the `Rating` column, separated by the different platforms. \n",
    "\n",
    "A good tool to use here is the boxplot!"
   ]
  },
  {
   "cell_type": "code",
   "execution_count": 23,
   "metadata": {
    "colab": {},
    "colab_type": "code",
    "id": "hFKjrlWgFcvm"
   },
   "outputs": [
    {
     "data": {
      "image/png": "[encoded data removed]",
      "text/plain": [
       "<Figure size 640x480 with 1 Axes>"
      ]
     },
     "metadata": {},
     "output_type": "display_data"
    }
   ],
   "source": [
    "# Call the boxplot() method on our df.\n",
    "df.boxplot(column=['Rating'], by=['platform'])\n",
    "plt.show();"
   ]
  },
  {
   "cell_type": "markdown",
   "metadata": {
    "colab_type": "text",
    "id": "FqTlAjnmFcvo"
   },
   "source": [
    "Here we see the same information as in the analytical summary, but with a boxplot. Can you see how the boxplot is working here? If you need to revise your boxplots, check out this this [link](https://www.kaggle.com/ramamet4/app-store-apple-data-set-10k-apps). "
   ]
  },
  {
   "cell_type": "markdown",
   "metadata": {
    "colab_type": "text",
    "id": "O8L-s1fgFcvp"
   },
   "source": [
    "## Stage 3 - Modelling"
   ]
  },
  {
   "cell_type": "markdown",
   "metadata": {
    "colab_type": "text",
    "id": "5fbRq2MZFcvq"
   },
   "source": [
    "### 3a. Hypothesis formulation\n",
    "\n",
    "Our **Null hypothesis** is just:\n",
    "\n",
    "**H<sub>null</sub>**: the observed difference in the mean rating of Apple Store and Google Play apps is due to chance (and thus not due to the platform).\n",
    "\n",
    "The more interesting hypothesis is called the **Alternate hypothesis**:\n",
    "\n",
    "**H<sub>alternative</sub>**: the observed difference in the average ratings of apple and google users is not due to chance (and is actually due to platform)\n",
    "\n",
    "We're also going to pick a **significance level** of 0.05. "
   ]
  },
  {
   "cell_type": "markdown",
   "metadata": {
    "colab_type": "text",
    "id": "TjBqkabaFcvq"
   },
   "source": [
    "### 3b. Getting the distribution of the data\n",
    "Now that the hypotheses and significance level are defined, we can select a statistical test to determine which hypothesis to accept. \n",
    "\n",
    "There are many different statistical tests, all with different assumptions. You'll generate an excellent judgement about when to use which statistical tests over the Data Science Career Track course. But in general, one of the most important things to determine is the **distribution of the data**.   "
   ]
  },
  {
   "cell_type": "code",
   "execution_count": 24,
   "metadata": {
    "colab": {},
    "colab_type": "code",
    "id": "bFwVhkeWFcvr"
   },
   "outputs": [],
   "source": [
    "# Create a subset of the column 'Rating' by the different platforms.\n",
    "# Call the subsets 'apple' and 'google' \n",
    "apple = df.loc[df.platform == 'apple', 'Rating']\n",
    "google = df.loc[df.platform == 'google', 'Rating']"
   ]
  },
  {
   "cell_type": "code",
   "execution_count": 25,
   "metadata": {
    "colab": {},
    "colab_type": "code",
    "id": "oPPFpwPvFcvu"
   },
   "outputs": [
    {
     "name": "stdout",
     "output_type": "stream",
     "text": [
      "NormaltestResult(statistic=1778.9974234584017, pvalue=0.0)\n"
     ]
    }
   ],
   "source": [
    "# Using the stats.normaltest() method, get an indication of whether the apple data are normally distributed\n",
    "# Save the result in a variable called apple_normal, and print it out\n",
    "apple_normal = stats.normaltest(apple)\n",
    "print(apple_normal)"
   ]
  },
  {
   "cell_type": "code",
   "execution_count": 26,
   "metadata": {
    "colab": {},
    "colab_type": "code",
    "id": "rCdh8a8KFcvw"
   },
   "outputs": [
    {
     "name": "stdout",
     "output_type": "stream",
     "text": [
      "NormaltestResult(statistic=3678.6157187516856, pvalue=0.0)\n"
     ]
    }
   ],
   "source": [
    "# Do the same with the google data. \n",
    "google_normal = stats.normaltest(google)\n",
    "print(google_normal)"
   ]
  },
  {
   "cell_type": "markdown",
   "metadata": {
    "colab_type": "text",
    "id": "9gDqu21yFcv0"
   },
   "source": [
    "Since the null hypothesis of the normaltest() is that the data are normally distributed, the lower the p-value in the result of this test, the more likely the data are to be non-normal. \n",
    "\n",
    "Since the p-values is 0 for both tests, regardless of what we pick for the significance level, our conclusion is that the data are not normally distributed. \n",
    "\n",
    "We can actually also check out the distribution of the data visually with a histogram. A normal distribution has the following visual characteristics:\n",
    "    - symmetric\n",
    "    - unimodal (one hump)\n",
    "As well as a roughly identical mean, median and mode. "
   ]
  },
  {
   "cell_type": "code",
   "execution_count": 27,
   "metadata": {
    "colab": {},
    "colab_type": "code",
    "id": "P9tT9RjNFcv1"
   },
   "outputs": [
    {
     "data": {
      "image/png": "[encoded data removed]",
      "text/plain": [
       "<Figure size 640x480 with 1 Axes>"
      ]
     },
     "metadata": {},
     "output_type": "display_data"
    }
   ],
   "source": [
    "# Create a histogram of the apple reviews distribution\n",
    "plt.hist(apple)\n",
    "plt.show();"
   ]
  },
  {
   "cell_type": "code",
   "execution_count": 28,
   "metadata": {
    "colab": {},
    "colab_type": "code",
    "id": "8dE1uC5iFcv2"
   },
   "outputs": [
    {
     "data": {
      "image/png": "[encoded data removed]",
      "text/plain": [
       "<Figure size 640x480 with 1 Axes>"
      ]
     },
     "metadata": {},
     "output_type": "display_data"
    }
   ],
   "source": [
    "# Create a histogram of the google data\n",
    "plt.hist(google)\n",
    "plt.show();"
   ]
  },
  {
   "cell_type": "markdown",
   "metadata": {
    "colab_type": "text",
    "id": "QhZV89FzFcv5"
   },
   "source": [
    "### 3c. Permutation test\n",
    "Since the data aren't normally distributed, we're using a *non-parametric* test here. This is simply a label for statistical tests used when the data aren't normally distributed. These tests are extraordinarily powerful due to how few assumptions we need to make.  \n",
    "\n",
    "Check out more about permutations [here.](http://rasbt.github.io/mlxtend/user_guide/evaluate/permutation_test/)"
   ]
  },
  {
   "cell_type": "code",
   "execution_count": 29,
   "metadata": {
    "colab": {},
    "colab_type": "code",
    "id": "bxNhQgpqFcv6"
   },
   "outputs": [
    {
     "data": {
      "text/html": [
       "<div>\n",
       "<style scoped>\n",
       "    .dataframe tbody tr th:only-of-type {\n",
       "        vertical-align: middle;\n",
       "    }\n",
       "\n",
       "    .dataframe tbody tr th {\n",
       "        vertical-align: top;\n",
       "    }\n",
       "\n",
       "    .dataframe thead th {\n",
       "        text-align: right;\n",
       "    }\n",
       "</style>\n",
       "<table border=\"1\" class=\"dataframe\">\n",
       "  <thead>\n",
       "    <tr style=\"text-align: right;\">\n",
       "      <th></th>\n",
       "      <th>count</th>\n",
       "      <th>mean</th>\n",
       "      <th>std</th>\n",
       "      <th>min</th>\n",
       "      <th>25%</th>\n",
       "      <th>50%</th>\n",
       "      <th>75%</th>\n",
       "      <th>max</th>\n",
       "    </tr>\n",
       "    <tr>\n",
       "      <th>platform</th>\n",
       "      <th></th>\n",
       "      <th></th>\n",
       "      <th></th>\n",
       "      <th></th>\n",
       "      <th></th>\n",
       "      <th></th>\n",
       "      <th></th>\n",
       "      <th></th>\n",
       "    </tr>\n",
       "  </thead>\n",
       "  <tbody>\n",
       "    <tr>\n",
       "      <th>apple</th>\n",
       "      <td>6268.0</td>\n",
       "      <td>4.135498</td>\n",
       "      <td>0.615495</td>\n",
       "      <td>1.0</td>\n",
       "      <td>4.0</td>\n",
       "      <td>4.3</td>\n",
       "      <td>4.5</td>\n",
       "      <td>5.0</td>\n",
       "    </tr>\n",
       "    <tr>\n",
       "      <th>google</th>\n",
       "      <td>9366.0</td>\n",
       "      <td>4.134337</td>\n",
       "      <td>0.611278</td>\n",
       "      <td>1.0</td>\n",
       "      <td>4.0</td>\n",
       "      <td>4.3</td>\n",
       "      <td>4.5</td>\n",
       "      <td>5.0</td>\n",
       "    </tr>\n",
       "  </tbody>\n",
       "</table>\n",
       "</div>"
      ],
      "text/plain": [
       "           count      mean       std  min  25%  50%  75%  max\n",
       "platform                                                     \n",
       "apple     6268.0  4.135498  0.615495  1.0  4.0  4.3  4.5  5.0\n",
       "google    9366.0  4.134337  0.611278  1.0  4.0  4.3  4.5  5.0"
      ]
     },
     "execution_count": 29,
     "metadata": {},
     "output_type": "execute_result"
    }
   ],
   "source": [
    "# Create a column called `Permutation1`, and assign to it the result of permuting (shuffling) the Rating column\n",
    "# This assignment will use our numpy object's random.permutation() method\n",
    "df['Permutation1'] = np.random.permutation(df['Rating'])\n",
    "\n",
    "# Call the describe() method on our permutation grouped by 'platform'. \n",
    "df.groupby(['platform'])['Permutation1'].describe()"
   ]
  },
  {
   "cell_type": "code",
   "execution_count": 30,
   "metadata": {
    "colab": {},
    "colab_type": "code",
    "id": "AaGNfPGTFcv7"
   },
   "outputs": [
    {
     "data": {
      "text/html": [
       "<div>\n",
       "<style scoped>\n",
       "    .dataframe tbody tr th:only-of-type {\n",
       "        vertical-align: middle;\n",
       "    }\n",
       "\n",
       "    .dataframe tbody tr th {\n",
       "        vertical-align: top;\n",
       "    }\n",
       "\n",
       "    .dataframe thead th {\n",
       "        text-align: right;\n",
       "    }\n",
       "</style>\n",
       "<table border=\"1\" class=\"dataframe\">\n",
       "  <thead>\n",
       "    <tr style=\"text-align: right;\">\n",
       "      <th></th>\n",
       "      <th>count</th>\n",
       "      <th>mean</th>\n",
       "      <th>std</th>\n",
       "      <th>min</th>\n",
       "      <th>25%</th>\n",
       "      <th>50%</th>\n",
       "      <th>75%</th>\n",
       "      <th>max</th>\n",
       "    </tr>\n",
       "    <tr>\n",
       "      <th>platform</th>\n",
       "      <th></th>\n",
       "      <th></th>\n",
       "      <th></th>\n",
       "      <th></th>\n",
       "      <th></th>\n",
       "      <th></th>\n",
       "      <th></th>\n",
       "      <th></th>\n",
       "    </tr>\n",
       "  </thead>\n",
       "  <tbody>\n",
       "    <tr>\n",
       "      <th>apple</th>\n",
       "      <td>6268.0</td>\n",
       "      <td>4.049697</td>\n",
       "      <td>0.726943</td>\n",
       "      <td>1.0</td>\n",
       "      <td>4.0</td>\n",
       "      <td>4.5</td>\n",
       "      <td>4.5</td>\n",
       "      <td>5.0</td>\n",
       "    </tr>\n",
       "    <tr>\n",
       "      <th>google</th>\n",
       "      <td>9366.0</td>\n",
       "      <td>4.191757</td>\n",
       "      <td>0.515219</td>\n",
       "      <td>1.0</td>\n",
       "      <td>4.0</td>\n",
       "      <td>4.3</td>\n",
       "      <td>4.5</td>\n",
       "      <td>5.0</td>\n",
       "    </tr>\n",
       "  </tbody>\n",
       "</table>\n",
       "</div>"
      ],
      "text/plain": [
       "           count      mean       std  min  25%  50%  75%  max\n",
       "platform                                                     \n",
       "apple     6268.0  4.049697  0.726943  1.0  4.0  4.5  4.5  5.0\n",
       "google    9366.0  4.191757  0.515219  1.0  4.0  4.3  4.5  5.0"
      ]
     },
     "execution_count": 30,
     "metadata": {},
     "output_type": "execute_result"
    }
   ],
   "source": [
    "# Lets compare with the previous analytical summary:\n",
    "df.groupby(['platform'])['Rating'].describe()"
   ]
  },
  {
   "cell_type": "code",
   "execution_count": 41,
   "metadata": {
    "colab": {},
    "colab_type": "code",
    "id": "aJPNpX0JFcv-"
   },
   "outputs": [
    {
     "data": {
      "text/plain": [
       "[-0.0017419726553740134,\n",
       " 0.0014271126360876352,\n",
       " 0.023663971613983037,\n",
       " 0.01146698788718492,\n",
       " 0.0074723425618143935,\n",
       " 0.0009211242282072263,\n",
       " -0.010903025934891453,\n",
       " -0.010423668495847416,\n",
       " -0.024937546511359265,\n",
       " -0.004751272133820095,\n",
       " 0.013570834425214784,\n",
       " -0.024298403259301438,\n",
       " -0.0022213300944198267,\n",
       " 0.013198000861511794,\n",
       " -0.0047779031026555785,\n",
       " 0.0029717088285625692,\n",
       " 0.008723998097095453,\n",
       " -0.0007566268084513439,\n",
       " 0.0007347074463561754,\n",
       " -0.01660205326575248,\n",
       " -0.021635306375721086,\n",
       " -0.006082820575611159,\n",
       " -0.00419202178826783,\n",
       " -0.00584314185608914,\n",
       " -0.007867095487609888,\n",
       " -0.0070681664225356045,\n",
       " 0.00744571159297891,\n",
       " -0.016442267452737802,\n",
       " 0.007845176125515607,\n",
       " -0.002434377845104585,\n",
       " -0.002753949471134831,\n",
       " -0.011861740812980415,\n",
       " -0.005736617980743652,\n",
       " 0.015967621620436745,\n",
       " 0.0072859257799633426,\n",
       " -0.009464953617757565,\n",
       " -0.00549693926122341,\n",
       " 0.007152770935784147,\n",
       " 0.0033978043299356386,\n",
       " -0.013086765379427767,\n",
       " 0.004969031491248721,\n",
       " -0.025683213638761693,\n",
       " 0.0033978043299356386,\n",
       " -0.0154036596681415,\n",
       " -0.009305167804742887,\n",
       " -0.012287836314353484,\n",
       " -0.0021946991255834547,\n",
       " -0.017108041673633778,\n",
       " -0.00017074549406181916,\n",
       " 0.00025535000731125024,\n",
       " -0.008879072303369817,\n",
       " 0.0141034538019289,\n",
       " -0.007520892892744158,\n",
       " -0.0005435790577630328,\n",
       " -0.014152004132858664,\n",
       " -0.031888229377505795,\n",
       " 0.008218009689215933,\n",
       " -0.016229219702051267,\n",
       " -0.015643338387664407,\n",
       " -0.020783115372974947,\n",
       " 0.013224631830347278,\n",
       " 0.0006281835710124639,\n",
       " -0.003579509505045486,\n",
       " -0.014152004132858664,\n",
       " -0.008692655521519654,\n",
       " -0.00650891607698334,\n",
       " -0.0044849624454625925,\n",
       " -0.009092120054056352,\n",
       " -0.011808478875308559,\n",
       " 0.021853065733147936,\n",
       " -0.010849763997220485,\n",
       " 0.002012993950473607,\n",
       " -0.002780580439970315,\n",
       " -0.00677522576534173,\n",
       " 0.018044837189630236,\n",
       " -0.0013957700605082834,\n",
       " -0.027707167270284216,\n",
       " -0.0007566268084504557,\n",
       " -0.00515073666635768,\n",
       " -0.006801856734178102,\n",
       " 0.00962945103751256,\n",
       " -0.008532869708504975,\n",
       " 0.018657349472851692,\n",
       " -0.031968122284012246,\n",
       " 0.009256617473812234,\n",
       " -0.004911057946835662,\n",
       " -0.005523570230059782,\n",
       " 0.002066255888146351,\n",
       " -0.006482285108147856,\n",
       " -0.015803124200679086,\n",
       " 0.0014803745737577145,\n",
       " 0.0024390894518475648,\n",
       " -0.002940366252985882,\n",
       " 0.0004417667891605248,\n",
       " 0.01066805882210975,\n",
       " 0.010721320759781605,\n",
       " -0.00616271348211761,\n",
       " -0.0009696745591361022,\n",
       " -0.0030468901283287053,\n",
       " 0.013464310549870184,\n",
       " 0.0001488261319675388,\n",
       " -0.006109451544446642,\n",
       " -0.013672646693815516,\n",
       " -0.0070149044848628606,\n",
       " -0.0033398307855216913,\n",
       " -0.0011028294033152974,\n",
       " -0.002594163658120152,\n",
       " 0.012692012453631385,\n",
       " -0.0007033648707777118,\n",
       " -0.0013691390916736879,\n",
       " 0.0025189823583549042,\n",
       " 0.013624096362884863,\n",
       " 0.0027852920467132947,\n",
       " 0.011413725949513953,\n",
       " -0.01702814876712644,\n",
       " 0.0006281835710124639,\n",
       " -0.013672646693815516,\n",
       " -0.007387738048564962,\n",
       " -0.0025409017204491846,\n",
       " 0.00033524291381858973,\n",
       " 0.0011341719788910964,\n",
       " -0.008905703272205301,\n",
       " -0.011515538218114685,\n",
       " -0.0015022939358519949,\n",
       " 0.005874484431665827,\n",
       " 0.0021461487946536906,\n",
       " -0.014684623509574557,\n",
       " -0.009864418150294263,\n",
       " 0.013624096362885751,\n",
       " -0.0036327714427164537,\n",
       " 0.002838553984384262,\n",
       " -0.00017074549406181916,\n",
       " 0.0010010171347136776,\n",
       " 0.005847853462829455,\n",
       " -0.008026881300623678,\n",
       " -0.005390415385879699,\n",
       " -0.002274592032089906,\n",
       " -0.008559500677341347,\n",
       " 0.015168692555361574,\n",
       " 0.001400481667250375,\n",
       " -0.0040056050064185555,\n",
       " -0.005417046354715183,\n",
       " 0.006939723185098501,\n",
       " -0.00797361936295271,\n",
       " 0.010295225258409424,\n",
       " 0.019349754662583152,\n",
       " 9.556419429568308e-05,\n",
       " 0.0015070055425940865,\n",
       " 0.008857152941275537,\n",
       " -0.008799179396863366,\n",
       " -0.0030735210971650773,\n",
       " -0.016894993922946355,\n",
       " 0.001453743604923119,\n",
       " 0.008164747751544965,\n",
       " -0.005523570230058006,\n",
       " -0.01103618077906976,\n",
       " 0.0012939577919075518,\n",
       " 0.01761874168825539,\n",
       " 0.012452333734109367,\n",
       " -0.008532869708503199,\n",
       " -0.0033131998166862076,\n",
       " 0.003610852080621285,\n",
       " 0.0069929851227703566,\n",
       " 0.010455011071423215,\n",
       " -0.012900348597575828,\n",
       " -0.0025142707516128127,\n",
       " -0.010743240121875886,\n",
       " -0.016841731985275388,\n",
       " -0.0005702100265985166,\n",
       " -0.017507506206171364,\n",
       " 0.014689335116317537,\n",
       " 0.006114163151186958,\n",
       " -0.004751272133820095,\n",
       " 0.003371173361100155,\n",
       " 0.006380472839547124,\n",
       " 0.008271271626887788,\n",
       " 0.005847853462830344,\n",
       " 0.006939723185098501,\n",
       " -0.0012626152163299764,\n",
       " -0.014684623509574557,\n",
       " -0.006668701889998907,\n",
       " -0.009837787181459667,\n",
       " -0.004192021788268718,\n",
       " -0.01987766243255784,\n",
       " 0.020548148260194132,\n",
       " 0.007392449655306166,\n",
       " -0.020649960528794864,\n",
       " 0.004036947581995243,\n",
       " 0.01788505137661378,\n",
       " -0.00419202178826783,\n",
       " 0.0023059346076683696,\n",
       " 0.00012219516313116685,\n",
       " 0.008777260034768197,\n",
       " 0.011866452419723394,\n",
       " 0.000601552602176092,\n",
       " 0.01855082559750887,\n",
       " -0.00821329808247473,\n",
       " -0.01788033976987169,\n",
       " -0.0006501029331067443,\n",
       " -0.004058866944089523,\n",
       " 0.013064846017333487,\n",
       " -0.0044849624454625925,\n",
       " -0.011675324031129364,\n",
       " -0.0010495674656425535,\n",
       " -0.003899081131073956,\n",
       " -0.00797361936295271,\n",
       " -0.004884426978000178,\n",
       " 0.0028119230155496666,\n",
       " 0.011333833043005725,\n",
       " 0.0030782327039062807,\n",
       " 0.00030861194498310596,\n",
       " -0.009704632337279584,\n",
       " -0.007893726456445371,\n",
       " -0.0212358418431835,\n",
       " -0.013140027317099623,\n",
       " -0.003100152065999673,\n",
       " 0.011440356918349437,\n",
       " -0.006402392201640517,\n",
       " 0.00046839775799778494,\n",
       " -0.017534137175006848,\n",
       " 0.0039037927378160475,\n",
       " -0.007867095487609,\n",
       " -0.005177367635193164,\n",
       " 0.008510950346409807,\n",
       " 0.007525604499486249,\n",
       " -0.005017581822178485,\n",
       " 0.002412458483011193,\n",
       " -0.002274592032089906,\n",
       " 0.0001488261319675388,\n",
       " -0.010716609153040402,\n",
       " -0.0023544849385981337,\n",
       " 0.006833199309754789,\n",
       " 0.00744571159297891,\n",
       " -0.023925569695601112,\n",
       " -0.00033053130707649814,\n",
       " -0.010583454308860318,\n",
       " -0.0052838915105368756,\n",
       " 0.001773315230952477,\n",
       " 0.0007347074463552872,\n",
       " 0.00699298512276858,\n",
       " -0.006562178014654307,\n",
       " 0.0007879693840262547,\n",
       " -0.0001441145252263354,\n",
       " -0.0012892461851654602,\n",
       " -0.00839971486432578,\n",
       " 0.0033978043299356386,\n",
       " -0.008639393583847799,\n",
       " -0.010769871090712257,\n",
       " -0.012793824722233893,\n",
       " 0.000281980976146734,\n",
       " 0.0002819809761476222,\n",
       " 0.00707287802927592,\n",
       " -0.01724119651781386,\n",
       " -0.003899081131073956,\n",
       " -0.009624739430772244,\n",
       " -0.004511593414298076,\n",
       " 0.01684644359201748,\n",
       " 0.023051459330758917,\n",
       " -0.005709987011909057,\n",
       " -0.0001441145252263354,\n",
       " 0.01753884878174894,\n",
       " 0.005421757961456386,\n",
       " -0.002008282343733292,\n",
       " -0.020064079214408004,\n",
       " -0.008133405175965613,\n",
       " -0.003952343068745812,\n",
       " 0.016473610028317154,\n",
       " 0.01034848719608128,\n",
       " 0.02456942455440103,\n",
       " -0.010423668495848304,\n",
       " -0.006721963827670763,\n",
       " 0.003344542392264671,\n",
       " -0.009891049119130635,\n",
       " 4.230225662471554e-05,\n",
       " -0.006056189606775675,\n",
       " -0.007174690297879316,\n",
       " 0.003451066267606606,\n",
       " 0.008084854845037626,\n",
       " 0.003637483049457657,\n",
       " 0.019616064350941542,\n",
       " 0.0010542790723855333,\n",
       " -0.0067219638276698745,\n",
       " 0.007126139966948664,\n",
       " 0.0011608029477283566,\n",
       " -0.017400982330826764,\n",
       " -0.015110719010948515,\n",
       " -0.029757751870641336,\n",
       " 0.011706666606707827,\n",
       " 0.013118107955004454,\n",
       " -0.002301223000926278,\n",
       " 0.006114163151186958,\n",
       " 0.008910414878947392,\n",
       " -0.006136082513282126,\n",
       " 0.0034510662676083825,\n",
       " -0.02038365084043825,\n",
       " -0.01156880015578654,\n",
       " 0.0018532081374598164,\n",
       " -0.006322499295132289,\n",
       " -0.011994895657158722,\n",
       " 0.0018265771686234444,\n",
       " -0.015536814512320696,\n",
       " -0.00011748355639085162,\n",
       " -0.006642070921162535,\n",
       " 0.0007613384151916591,\n",
       " -0.005230629572864132,\n",
       " 0.0007347074463561754,\n",
       " -0.025310380075062255,\n",
       " 0.00012219516313205503,\n",
       " 0.008537581315247067,\n",
       " 0.0015070055425931983,\n",
       " -0.011595431124622912,\n",
       " 0.0021727797634891743,\n",
       " -0.003952343068745812,\n",
       " -0.0009430435902997303,\n",
       " -0.002461008813941845,\n",
       " 0.007498973530648989,\n",
       " -0.004058866944089523,\n",
       " -0.0019550204060614362,\n",
       " 0.022279161234521005,\n",
       " 0.005794591525158488,\n",
       " -0.0030468901283287053,\n",
       " -0.004884426978000178,\n",
       " -0.028266417615835593,\n",
       " 0.0047559837405630745,\n",
       " 0.012798536328974208,\n",
       " -0.008160036144801985,\n",
       " -0.008133405175966502,\n",
       " 0.00795170000085843,\n",
       " 0.009176724567304895,\n",
       " 0.004249995332681777,\n",
       " -0.0027006875334629754,\n",
       " -0.0031800449725079005,\n",
       " -0.00677522576534173,\n",
       " 0.0011608029477274684,\n",
       " -0.014498206727724394,\n",
       " 0.003637483049457657,\n",
       " -0.0008897816526296509,\n",
       " 0.012558857609453078,\n",
       " 0.005714698618651148,\n",
       " 0.001560267480265054,\n",
       " -0.005417046354716071,\n",
       " -0.0036594024115528256,\n",
       " -6.422161871810772e-05,\n",
       " 0.002252672669996514,\n",
       " 0.024303114866041753,\n",
       " 0.012612119547124045,\n",
       " 0.01594099065160126,\n",
       " -0.009278536835906515,\n",
       " -0.015084088042112143,\n",
       " -0.0002772693694055306,\n",
       " 0.004463043083367424,\n",
       " -0.009598108461937649,\n",
       " -0.004564855351968156,\n",
       " 0.009070200691962071,\n",
       " 0.017139384249211354,\n",
       " 0.004143471457338066,\n",
       " 0.01642034809064441,\n",
       " 0.00017545710080391075,\n",
       " 0.0005216596956696407,\n",
       " -0.029438180244611978,\n",
       " 0.002359196545338449,\n",
       " -0.0005968409954357767,\n",
       " -0.0003571622759119819,\n",
       " 0.01050827300909507,\n",
       " 0.003850530800145968,\n",
       " -0.012287836314352596,\n",
       " 0.013464310549870184,\n",
       " -0.01242099115853268,\n",
       " 0.0065136276837254314,\n",
       " 0.0022526726699956257,\n",
       " -0.01284708665990486,\n",
       " 0.007712021281334636,\n",
       " 0.003664114018293141,\n",
       " 0.007072878029277696,\n",
       " 0.006407103808382608,\n",
       " -0.0057632489495809125,\n",
       " 0.010934368510469028,\n",
       " 0.006273948964202525,\n",
       " -0.016974886829453695,\n",
       " 0.013943667988914221,\n",
       " 9.556419429657126e-05,\n",
       " -0.01849285205309581,\n",
       " -0.005576832167729862,\n",
       " -0.01601617195136562,\n",
       " -0.013512860880799948,\n",
       " 0.0016401603867732817,\n",
       " 0.007525604499485361,\n",
       " -0.010929656903726936,\n",
       " 0.0011608029477274684,\n",
       " -0.0046181172896408995,\n",
       " -0.007174690297878428,\n",
       " -0.006482285108148744,\n",
       " -0.002594163658120152,\n",
       " -0.0038458191934021,\n",
       " 0.009629451037513448,\n",
       " -0.0031800449725079005,\n",
       " -0.00030390033824101437,\n",
       " -0.004990950853343001,\n",
       " 0.013544203456377524,\n",
       " 0.003211387548085476,\n",
       " -0.0016887107177030458,\n",
       " 0.001746684262116105,\n",
       " -0.009012227147549012,\n",
       " -0.014365051883546087,\n",
       " 0.0047559837405630745,\n",
       " -0.004751272133820095,\n",
       " -0.000676733901942228,\n",
       " -0.019211888211661865,\n",
       " 0.01495564480467415,\n",
       " -0.009518215555429421,\n",
       " 0.0048891385847413815,\n",
       " 0.001400481667250375,\n",
       " 0.007898438063186575,\n",
       " 0.00417010242617355,\n",
       " 0.0016934223244451374,\n",
       " 0.015168692555360686,\n",
       " 0.02009542178998558,\n",
       " -0.0016088178111948181,\n",
       " 0.0007080764775189152,\n",
       " 0.011866452419722506,\n",
       " -0.009784525243787812,\n",
       " 0.008857152941275537,\n",
       " 0.0033978043299356386,\n",
       " -0.007334476110893995,\n",
       " -0.002940366252985882,\n",
       " -0.003552878536208226,\n",
       " 0.0052087102107707395,\n",
       " 0.01711275328037498,\n",
       " 0.014609442209808421,\n",
       " -0.0007566268084513439,\n",
       " 0.010960999479304512,\n",
       " 0.009789236850528127,\n",
       " 0.004622828896382991,\n",
       " 0.002998339797398941,\n",
       " 0.013730620238226798,\n",
       " -0.003339830785520803,\n",
       " 0.0077919141878437514,\n",
       " -0.0201972340585872,\n",
       " -0.010503561402353867,\n",
       " 0.0011341719788928728,\n",
       " -0.00925190586707103,\n",
       " -0.003978974037582184,\n",
       " -0.012607407940381954,\n",
       " 0.0007879693840271429,\n",
       " -0.013299813130113414,\n",
       " -0.011835109844144043,\n",
       " -0.011435645311607345,\n",
       " 0.009549558131006997,\n",
       " -0.004884426978000178,\n",
       " -0.0007299958396131956,\n",
       " -0.0030468901283287053,\n",
       " -0.005550201198895266,\n",
       " -0.00557683216773075,\n",
       " -0.013060134410591395,\n",
       " -0.013912325413336646,\n",
       " 0.000281980976146734,\n",
       " 0.01642034809064441,\n",
       " 0.010108808476558373,\n",
       " -0.002594163658120152,\n",
       " 0.005581543774471065,\n",
       " -0.012713931815726554,\n",
       " -0.012314467283188968,\n",
       " -0.0033664617543580633,\n",
       " 0.006034270244680506,\n",
       " 0.007046247060440436,\n",
       " -0.008346452926653924,\n",
       " -0.019478197900020255,\n",
       " -0.004511593414298076,\n",
       " -0.001502293935852883,\n",
       " -0.007148059329043832,\n",
       " -0.0038724501622393603,\n",
       " -0.003126783034836933,\n",
       " -0.004351807601283397,\n",
       " -0.0003039003382401262,\n",
       " 0.013570834425213008,\n",
       " 0.006913092216262129,\n",
       " -0.006295868326296805,\n",
       " -0.006801856734177214,\n",
       " 0.012532226640616706,\n",
       " -0.0002772693694046424,\n",
       " 0.00020208806963939452,\n",
       " 0.005927746369337683,\n",
       " -0.00677522576534173,\n",
       " 0.01857745656634524,\n",
       " 0.001906470075131672,\n",
       " 0.0213737082941039,\n",
       " 0.0010542790723855333,\n",
       " -0.005070843759850341,\n",
       " 0.006593520590232771,\n",
       " 0.001080910041221017,\n",
       " -0.0046447482584772715,\n",
       " -0.006109451544446642,\n",
       " -0.0032066759413433843,\n",
       " 0.017672003625927246,\n",
       " -0.014205266070531408,\n",
       " 0.0076321283748290725,\n",
       " -0.00419202178826783,\n",
       " 0.013304524736856393,\n",
       " -0.001635448780030302,\n",
       " 0.010481642040260475,\n",
       " 0.009842498788199983,\n",
       " -0.01124922852975807,\n",
       " -0.010237251713995477,\n",
       " 0.006700044465576482,\n",
       " 0.011626773700198711,\n",
       " 0.007232663842292375,\n",
       " -0.013326444098948897,\n",
       " -0.0023278539697617617,\n",
       " 0.006220687026531557,\n",
       " -0.01993092437022881,\n",
       " 0.005767960556323004,\n",
       " -0.0015289249046883668,\n",
       " -0.0030202591594932215,\n",
       " -0.01284708665990486,\n",
       " -0.0007832577772859395,\n",
       " 0.015195323524197057,\n",
       " 0.016979598436196675,\n",
       " -0.0034729856297008865,\n",
       " -0.009198643929399175,\n",
       " -0.011542169186951057,\n",
       " 0.002572244296025872,\n",
       " -0.009651370399608616,\n",
       " -0.007148059329042056,\n",
       " 0.014929013835838667,\n",
       " -0.008106774207131018,\n",
       " -0.018785792710288796,\n",
       " -0.021874985095242216,\n",
       " 0.015275216430704397,\n",
       " -0.002487639782777329,\n",
       " -0.003286568847851612,\n",
       " 0.006540258652560915,\n",
       " -0.004511593414298076,\n",
       " 0.0064869967148890595,\n",
       " 0.003823899831308708,\n",
       " 0.015834466776255773,\n",
       " -0.0020349133125687757,\n",
       " -0.006455654139311484,\n",
       " -0.0030468901283287053,\n",
       " -0.0034996165985372585,\n",
       " 0.012186024045751864,\n",
       " 0.0003352429138194779,\n",
       " 0.005554912805635581,\n",
       " -0.006215975419789466,\n",
       " 0.002518982358354016,\n",
       " 0.005794591525158488,\n",
       " -0.018306435271245647,\n",
       " 0.016233931308794247,\n",
       " 0.009203355536142155,\n",
       " 0.007498973530648989,\n",
       " 0.0008944932593717425,\n",
       " 0.0012673268230729562,\n",
       " 0.018843766254701855,\n",
       " -0.0017153416865394178,\n",
       " 0.01255885760945219,\n",
       " -0.008266560020147473,\n",
       " 0.014289870583779951,\n",
       " 0.01831114687798685,\n",
       " -0.0154036596681415,\n",
       " -0.008799179396862478,\n",
       " 0.01761874168825628,\n",
       " 0.007712021281335524,\n",
       " -0.013832432506829306,\n",
       " -0.004351807601283397,\n",
       " 0.005767960556322116,\n",
       " -0.001156091340986265,\n",
       " 0.021853065733147936,\n",
       " 0.006913092216262129,\n",
       " 0.0026255062336968393,\n",
       " -0.01780044686336346,\n",
       " -0.0017419726553740134,\n",
       " 0.0026255062336968393,\n",
       " -0.017800446863365238,\n",
       " -0.001502293935852883,\n",
       " 0.012851798266646952,\n",
       " 0.0032113875480845877,\n",
       " 0.0053684960237854185,\n",
       " -0.007813833549938032,\n",
       " 0.011919714357392586,\n",
       " -0.001502293935852883,\n",
       " -0.007893726456445371,\n",
       " 0.017698634594763618,\n",
       " -0.0064290231704768885,\n",
       " 0.00041513582032504104,\n",
       " -0.0016887107177030458,\n",
       " 0.004303257270352745,\n",
       " 0.008457688408737951,\n",
       " 0.016127407433450536,\n",
       " -0.00847960777083312,\n",
       " -0.0001441145252263354,\n",
       " 0.004143471457338066,\n",
       " -0.018732530772617828,\n",
       " 0.008723998097096342,\n",
       " 0.018577456566344352,\n",
       " 0.003184756579249992,\n",
       " 0.01479585899166036,\n",
       " 0.003637483049457657,\n",
       " -0.013539491849635432,\n",
       " -0.004724641164984611,\n",
       " 0.002865184953219746,\n",
       " -0.0031800449725087887,\n",
       " -0.009065489085219092,\n",
       " -0.009811156212622407,\n",
       " -0.011275859498592666,\n",
       " -0.005390415385879699,\n",
       " -0.006988273516027377,\n",
       " 0.013464310549870184,\n",
       " -9.085258755536785e-05,\n",
       " -0.0033930927231944352,\n",
       " -0.014231897039366892,\n",
       " -0.006721963827670763,\n",
       " -0.017054779735961922,\n",
       " -0.004032235975253151,\n",
       " -0.005683356043072685,\n",
       " 0.010987630448139996,\n",
       " -0.008346452926653036,\n",
       " 0.001427112636086747,\n",
       " -0.004058866944088635,\n",
       " -0.0041653908194332345,\n",
       " -0.0038191882245666164,\n",
       " 0.004276626301518149,\n",
       " -0.008026881300625455,\n",
       " -0.012447622127368163,\n",
       " -0.0097845252437887,\n",
       " 0.001746684262116105,\n",
       " -0.006295868326296805,\n",
       " -0.0010761984344789255,\n",
       " -0.000836519714956907,\n",
       " 0.013783882175899542,\n",
       " -0.006935011578355521,\n",
       " 0.010268594289573052,\n",
       " 0.016100776464614164,\n",
       " 0.01447628736563189,\n",
       " -0.004431700507789849,\n",
       " -0.018386328177752098,\n",
       " 0.005421757961458162,\n",
       " 0.00038850485149044545,\n",
       " -0.0002772693694064188,\n",
       " -0.013086765379426879,\n",
       " -0.010423668495846528,\n",
       " 0.0010010171347127894,\n",
       " -0.001182722309822637,\n",
       " 0.0056614366809784045,\n",
       " -0.006295868326296805,\n",
       " -0.008905703272206189,\n",
       " 0.010561534946767814,\n",
       " -0.0002772693694055306,\n",
       " -0.007893726456445371,\n",
       " -0.0026474255957911197,\n",
       " 0.0010542790723864215,\n",
       " 0.0028119230155487784,\n",
       " 0.0027852920467124065,\n",
       " -0.008586131646176831,\n",
       " 0.001267326823072068,\n",
       " 0.01066805882210975,\n",
       " -0.010397037527010156,\n",
       " 0.002199410732324658,\n",
       " -0.0006501029331067443,\n",
       " -0.011781847906473075,\n",
       " 0.021187291512253736,\n",
       " 0.0009211242282072263,\n",
       " 0.0028918159220552297,\n",
       " -0.016442267452737802,\n",
       " 0.010188701383065712,\n",
       " 0.005448388930292758,\n",
       " 0.006380472839547124,\n",
       " -0.012900348597575828,\n",
       " 0.02156012507595495,\n",
       " 0.005501650867965502,\n",
       " 0.008697367128260858,\n",
       " -0.005976296700266559,\n",
       " 0.004942400522412349,\n",
       " -0.003259937879014352,\n",
       " 0.0012939577919075518,\n",
       " 0.0037706378936368523,\n",
       " 0.019509540475596943,\n",
       " 0.011253940136498386,\n",
       " 0.009522927162170625,\n",
       " -0.024777760698346363,\n",
       " -0.01327318216127793,\n",
       " -0.008905703272206189,\n",
       " 0.00949629619333514,\n",
       " 0.008537581315246179,\n",
       " -0.001449031998179251,\n",
       " -0.009518215555429421,\n",
       " -0.0034996165985381467,\n",
       " -0.007014904484863749,\n",
       " 0.010428380102587731,\n",
       " 0.005341865054949935,\n",
       " 0.01375725120706317,\n",
       " 0.010108808476559261,\n",
       " -0.020916270217153254,\n",
       " 0.0074723425618143935,\n",
       " -0.0020881752502397433,\n",
       " 0.01841767075333056,\n",
       " -0.007627416768088757,\n",
       " 0.010881106572796284,\n",
       " -0.0033131998166862076,\n",
       " 0.009949022663544582,\n",
       " -0.02139562765619818,\n",
       " 0.01676655068551014,\n",
       " 0.006566889621397287,\n",
       " 0.017938313314285637,\n",
       " 0.0038771617689805637,\n",
       " 0.014236608646108095,\n",
       " 0.003211387548085476,\n",
       " -0.023685890976078205,\n",
       " 0.0003618738826549617,\n",
       " 0.00547501989912913,\n",
       " -0.006002927669102043,\n",
       " 0.025687925245504672,\n",
       " -0.0010761984344798137,\n",
       " 0.010348487196080391,\n",
       " 0.0031314946415772482,\n",
       " -0.004911057946834774,\n",
       " 0.0012939577919075518,\n",
       " -0.001502293935852883,\n",
       " -0.00557683216773075,\n",
       " 0.010881106572796284,\n",
       " -0.003419723692029919,\n",
       " -0.014791147384918268,\n",
       " 0.000281980976146734,\n",
       " 0.020148683727656547,\n",
       " -0.008426345833161264,\n",
       " -0.011329121436263634,\n",
       " -0.008186667113639245,\n",
       " 0.001427112636086747,\n",
       " 0.00744571159297891,\n",
       " 0.011227309167662014,\n",
       " 0.005395126992620902,\n",
       " -0.01231446728318808,\n",
       " -0.006535547045818824,\n",
       " -0.004192021788266942,\n",
       " -0.011701954999964848,\n",
       " -0.007547523861579641,\n",
       " 0.0025456133271895,\n",
       " 0.002252672669996514,\n",
       " -0.0096780013684441,\n",
       " -0.011675324031129364,\n",
       " -0.007600785799251497,\n",
       " 0.01146698788718492,\n",
       " 0.01444965639679463,\n",
       " 0.007978330969693914,\n",
       " 0.005075555366591544,\n",
       " 0.02259873286055125,\n",
       " 0.01793831331428475,\n",
       " -0.01566996935650078,\n",
       " -0.006482285108148744,\n",
       " 0.006273948964201637,\n",
       " -0.00011748355639085162,\n",
       " 0.003823899831308708,\n",
       " -0.013326444098949786,\n",
       " -0.0011560913409871532,\n",
       " 0.011227309167662014,\n",
       " -0.005976296700266559,\n",
       " -0.018626006897275893,\n",
       " 0.020974243761566314,\n",
       " 0.01444965639679463,\n",
       " -0.0004636861512565815,\n",
       " -0.004112128881761379,\n",
       " 0.005182079241935256,\n",
       " 0.010481642040259587,\n",
       " 0.003051601735070797,\n",
       " -0.008053512269460938,\n",
       " 0.010241963320738456,\n",
       " 0.00022871903847576647,\n",
       " 0.009443034255663285,\n",
       " 0.0007347074463561754,\n",
       " 0.005448388930292758,\n",
       " -0.0019017584683895805,\n",
       " -0.002753949471134831,\n",
       " -0.0004370551824193214,\n",
       " 0.015088799648853346,\n",
       " -0.004138759850596863,\n",
       " -0.009651370399608616,\n",
       " -0.004831165040327434,\n",
       " -0.0011827223098217488,\n",
       " 0.005634805712143809,\n",
       " 0.0037440069248013685,\n",
       " 0.005235341179606223,\n",
       " 0.00957618909984248,\n",
       " 0.00022871903847576647,\n",
       " 0.004942400522412349,\n",
       " -0.0006234719642712605,\n",
       " -0.0020615442814042595,\n",
       " -0.020889639248316882,\n",
       " 0.0033445423922655593,\n",
       " -0.012048157594830577,\n",
       " 0.006407103808382608,\n",
       " -0.013752539600321967,\n",
       " -0.003899081131073956,\n",
       " -0.005310522479372359,\n",
       " 0.004116840488502582,\n",
       " 0.002092886856982723,\n",
       " 0.00030861194498310596,\n",
       " -0.0071746902978775395,\n",
       " -0.00017074549406181916,\n",
       " -0.007680678705757948,\n",
       " 0.005288603117278079,\n",
       " -0.0033398307855225795,\n",
       " -0.01907873336748267,\n",
       " -0.002434377845104585,\n",
       " -0.016655315203424337,\n",
       " 0.0012406958542365842,\n",
       " 0.006593520590231883,\n",
       " 0.006247317995367041,\n",
       " 0.0008412313216989986,\n",
       " 0.0012140648854002123,\n",
       " -0.0053105224793732475,\n",
       " 0.007339187717635198,\n",
       " -0.004511593414298076,\n",
       " -0.0017419726553749015,\n",
       " 0.01932312369374678,\n",
       " 0.0028385539843851504,\n",
       " 0.013038215048497115,\n",
       " -0.007494261923908674,\n",
       " -0.003100152066000561,\n",
       " -0.0031800449725087887,\n",
       " -0.00017074549406181916,\n",
       " 0.022651994798223107,\n",
       " -0.013459598943128093,\n",
       " -0.010130727838653542,\n",
       " 0.009975653632380066,\n",
       " -0.0033131998166862076,\n",
       " 0.0010542790723846451,\n",
       " -0.001315877154000944,\n",
       " -0.002940366252985882,\n",
       " -0.010476930433517495,\n",
       " -0.00022400743173367488,\n",
       " 0.00795170000085843,\n",
       " -0.018599375928438633,\n",
       " 0.019030183036553794,\n",
       " 0.01189308338855799,\n",
       " -0.0007299958396131956,\n",
       " -0.0103437755893383,\n",
       " 0.015195323524197057,\n",
       " -0.02096953215482511,\n",
       " -0.006828487703012698,\n",
       " 0.0022526726699956257,\n",
       " 0.004942400522412349,\n",
       " -0.007893726456445371,\n",
       " 0.008564212284081663,\n",
       " 0.017592110719419907,\n",
       " 0.006779937372082934,\n",
       " 0.009256617473811346,\n",
       " -0.014737885447246413,\n",
       " -0.00025063840056915865,\n",
       " 0.01058816591560241,\n",
       " -0.007787202581102548,\n",
       " 0.003317911423428299,\n",
       " 0.006194056057694297,\n",
       " -0.003872450162238472,\n",
       " -0.001342508122837316,\n",
       " 0.00880389100360457,\n",
       " 0.0045429359898747634,\n",
       " -0.02464460585416628,\n",
       " -0.004484962445461704,\n",
       " -0.013752539600321967,\n",
       " -0.0023811159074336175,\n",
       " 0.0007080764775198034,\n",
       " 0.008351164533396904,\n",
       " -0.0022213300944198267,\n",
       " 0.007925069032022947,\n",
       " -0.02003744824557252,\n",
       " -0.007068166422534716,\n",
       " -0.001342508122837316,\n",
       " -0.0009164126214642465,\n",
       " 0.0021195178258173186,\n",
       " 0.003823899831308708,\n",
       " -0.004831165040327434,\n",
       " -0.004724641164983723,\n",
       " 0.009443034255663285,\n",
       " -0.006482285108147856,\n",
       " 0.0024124584830103046,\n",
       " 4.230225662471554e-05,\n",
       " -0.013113396348261475,\n",
       " -0.011781847906473075,\n",
       " 0.004223364363847182,\n",
       " -0.006482285108148744,\n",
       " -0.0057898799184172844,\n",
       " -0.005523570230058894,\n",
       " -0.013033503441755023,\n",
       " 0.0032912804545928154,\n",
       " 0.0007080764775198034,\n",
       " 0.002199410732324658,\n",
       " -0.002434377845105473,\n",
       " 0.006380472839547124,\n",
       " 0.011759928544377907,\n",
       " -0.013592753787307288,\n",
       " 0.008004961938529398,\n",
       " -0.0010495674656425535,\n",
       " -0.016495529390410546,\n",
       " -0.004351807601283397,\n",
       " 0.01658013390365909,\n",
       " -0.0096780013684441,\n",
       " -0.006269237357461321,\n",
       " 0.011759928544379683,\n",
       " -0.00427191469477517,\n",
       " -0.012128050501338805,\n",
       " 0.0076321283748290725,\n",
       " -0.0011560913409871532,\n",
       " -0.0005702100265985166,\n",
       " 0.0015070055425931983,\n",
       " 0.0061940560576960735,\n",
       " -0.007600785799251497,\n",
       " 0.010241963320738456,\n",
       " -0.0013957700605091716,\n",
       " -0.002833842377643059,\n",
       " 0.0003618738826549617,\n",
       " 0.009096831660798443,\n",
       " 0.0009743861658764175,\n",
       " 0.0055282818368000974,\n",
       " -0.003126783034836045,\n",
       " 0.007365818686470682,\n",
       " 0.0014803745737577145,\n",
       " 0.01053490397793233,\n",
       " 0.006966354153933985,\n",
       " -0.013033503441755023,\n",
       " 0.0017999461997888488,\n",
       " -0.005390415385878811,\n",
       " 0.005927746369336795,\n",
       " 0.0033978043299356386,\n",
       " -0.02088963924831777,\n",
       " 0.0053684960237854185,\n",
       " -0.01532376676163505,\n",
       " -0.024165248415121354,\n",
       " -0.005869772824923736,\n",
       " -0.004325176632448802,\n",
       " -0.004112128881761379,\n",
       " -0.00863939358384691,\n",
       " -0.0016887107177030458,\n",
       " -0.006295868326296805,\n",
       " 0.008218009689215933,\n",
       " 0.009123462629633039,\n",
       " 0.014209977677271723,\n",
       " 0.0007613384151907709,\n",
       " 0.0036108520806221733,\n",
       " -0.0028072114088057987,\n",
       " -0.008053512269460938,\n",
       " 0.005475019899128242,\n",
       " 0.017751896532433697,\n",
       " -0.009731263306115068,\n",
       " 0.01594099065160126,\n",
       " 0.005288603117278967,\n",
       " -0.019025471429810814,\n",
       " -0.012926979566413088,\n",
       " 0.003477697236442978,\n",
       " 0.006380472839547124,\n",
       " 0.01189308338855799,\n",
       " 0.007179401904619631,\n",
       " -0.0036327714427164537,\n",
       " -0.026748452392195254,\n",
       " 0.001453743604923119,\n",
       " 0.0011341719788919846,\n",
       " 0.009309879411484978,\n",
       " 0.0024923513895194205,\n",
       " 0.001746684262116105,\n",
       " -0.0025675326892855566,\n",
       " 0.010881106572797172,\n",
       " 0.0027586610778760345,\n",
       " 0.0028385539843851504,\n",
       " 0.0011874339165647285,\n",
       " 0.0032380185169200715,\n",
       " -0.008559500677339571,\n",
       " -0.0005169480889266609,\n",
       " 0.014103453801930677,\n",
       " -0.014844409322590124,\n",
       " 0.016739919716674656,\n",
       " -0.010769871090712257,\n",
       " 0.01564804999440561,\n",
       " 0.003823899831308708,\n",
       " -0.014098742195186809,\n",
       " 0.01101426141697548,\n",
       " -0.0028072114088057987,\n",
       " 0.00768539031250004,\n",
       " 0.018177992033807655,\n",
       " -0.0002772693694046424,\n",
       " -0.01156880015578654,\n",
       " -0.009331798773577482,\n",
       " 0.005315234086113563,\n",
       " -0.000410424213585614,\n",
       " 0.009363141349155946,\n",
       " -6.42216187189959e-05,\n",
       " 0.005981008307009539,\n",
       " -0.013646015724979144,\n",
       " 0.004755983740562186,\n",
       " 0.00803159290736577,\n",
       " 0.016473610028316266,\n",
       " -0.003872450162238472,\n",
       " 0.0017466842621152168,\n",
       " -0.007281214173222139,\n",
       " -0.01590964807602102,\n",
       " -0.02730770273774663,\n",
       " -0.004990950853343001,\n",
       " 0.006220687026530669,\n",
       " -0.0013691390916727997,\n",
       " -0.013725908631487371,\n",
       " -0.017267827486649345,\n",
       " 0.0032646494857573316,\n",
       " -0.0009430435902997303,\n",
       " -0.005150736666356792,\n",
       " ...]"
      ]
     },
     "execution_count": 41,
     "metadata": {},
     "output_type": "execute_result"
    }
   ],
   "source": [
    "# The difference in the means for Permutation1 (0.001103) now looks hugely different to our observed difference of 0.14206. \n",
    "# It's sure starting to look like our observed difference is significant, and that the Null is false; platform does impact on ratings\n",
    "# But to be sure, let's create 10,000 permutations, calculate the mean ratings for Google and Apple apps and the difference between these for each one, and then take the average of all of these differences.\n",
    "# Let's create a vector with the differences - that will be the distibution of the Null.\n",
    "\n",
    "# First, make a list called difference.\n",
    "difference = []\n",
    "\n",
    "# Now make a for loop that does the following 10,000 times:\n",
    "# 1. makes a permutation of the 'Rating' as you did above\n",
    "# 2. calculates the difference in the mean rating for apple and the mean rating for google. \n",
    "for i in range(10000):\n",
    "    df['Permutation1'] = np.random.permutation(df['Rating'])\n",
    "    diff = df.groupby(['platform'])['Permutation1'].describe()\n",
    "    difference.append(diff.iloc[0,1] - diff.iloc[1,1])\n",
    "    \n",
    "difference"
   ]
  },
  {
   "cell_type": "code",
   "execution_count": 42,
   "metadata": {
    "colab": {},
    "colab_type": "code",
    "id": "VlzpYTkYFcv_"
   },
   "outputs": [
    {
     "data": {
      "image/png": "[encoded data removed]",
      "text/plain": [
       "<Figure size 640x480 with 1 Axes>"
      ]
     },
     "metadata": {},
     "output_type": "display_data"
    }
   ],
   "source": [
    "# Make a variable called 'histo', and assign to it the result of plotting a histogram of the difference list. \n",
    "histo = plt.hist(difference)\n",
    "histo\n",
    "plt.show();"
   ]
  },
  {
   "cell_type": "code",
   "execution_count": 43,
   "metadata": {
    "colab": {},
    "colab_type": "code",
    "id": "KhqgDFd3FcwB"
   },
   "outputs": [
    {
     "name": "stdout",
     "output_type": "stream",
     "text": [
      "0.1420605474512291\n"
     ]
    }
   ],
   "source": [
    "# Now make a variable called obs_difference, and assign it the result of the mean of our 'apple' variable and the mean of our 'google variable'\n",
    "obs_difference = np.mean(apple) - np.mean(google)\n",
    "\n",
    "# Make this difference absolute with the built-in abs() function. \n",
    "obs_difference = abs(obs_difference)\n",
    "\n",
    "# Print out this value; it should be 0.1420605474512291. \n",
    "print(obs_difference)"
   ]
  },
  {
   "cell_type": "markdown",
   "metadata": {
    "colab_type": "text",
    "id": "QUNuuSgDFcwE"
   },
   "source": [
    "## Stage 4 -  Evaluating and concluding\n",
    "### 4a. What is our conclusion?"
   ]
  },
  {
   "cell_type": "code",
   "execution_count": 44,
   "metadata": {
    "colab": {},
    "colab_type": "code",
    "id": "XMQHnqx1FcwF"
   },
   "outputs": [
    {
     "name": "stdout",
     "output_type": "stream",
     "text": [
      "0.0\n"
     ]
    }
   ],
   "source": [
    "'''\n",
    "What do we know? \n",
    "\n",
    "Recall: The p-value of our observed data is just the proportion of the data given the null that's at least as extreme as that observed data.\n",
    "\n",
    "As a result, we're going to count how many of the differences in our difference list are at least as extreme as our observed difference.\n",
    "\n",
    "If less than or equal to 5% of them are, then we will reject the Null. \n",
    "'''\n",
    "p = np.sum(difference >= obs_difference) / len(difference)\n",
    "print(p)"
   ]
  },
  {
   "cell_type": "markdown",
   "metadata": {
    "colab_type": "text",
    "id": "4RTofY9wFcwI"
   },
   "source": [
    "### 4b. What is our decision?\n",
    "So actually, zero differences are at least as extreme as our observed difference!\n",
    "\n",
    "So the p-value of our observed data is 0. \n",
    "\n",
    "It doesn't matter which significance level we pick; our observed data is statistically significant, and we reject the Null.\n",
    "\n",
    "We conclude that platform does impact on ratings. Specifically, we should advise our client to integrate **only Google Play** into their operating system interface. "
   ]
  },
  {
   "cell_type": "markdown",
   "metadata": {
    "colab_type": "text",
    "id": "Cu_eh7fTFcwJ"
   },
   "source": [
    "### 4c. Other statistical tests, and next steps\n",
    "The test we used here is the Permutation test. This was appropriate because our data were not normally distributed! \n",
    "\n",
    "As we've seen in Professor Spiegelhalter's book, there are actually many different statistical tests, all with different assumptions. How many of these different statistical tests can you remember? How much do you remember about what the appropriate conditions are under which to use them? \n",
    "\n",
    "Make a note of your answers to these questions, and discuss them with your mentor at your next call. \n"
   ]
  }
 ],
 "metadata": {
  "colab": {
   "collapsed_sections": [
    "5fbRq2MZFcvq",
    "4RTofY9wFcwI",
    "Cu_eh7fTFcwJ"
   ],
   "name": "Springboard Apps project - Tier 3 - Complete.ipynb",
   "provenance": []
  },
  "kernelspec": {
   "display_name": "Python 3 (ipykernel)",
   "language": "python",
   "name": "python3"
  },
  "language_info": {
   "codemirror_mode": {
    "name": "ipython",
    "version": 3
   },
   "file_extension": ".py",
   "mimetype": "text/x-python",
   "name": "python",
   "nbconvert_exporter": "python",
   "pygments_lexer": "ipython3",
   "version": "3.11.5"
  }
 },
 "nbformat": 4,
 "nbformat_minor": 1
}
